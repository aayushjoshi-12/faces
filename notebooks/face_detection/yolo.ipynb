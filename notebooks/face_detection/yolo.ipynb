{
  "cells": [
    {
      "cell_type": "code",
      "execution_count": 1,
      "metadata": {
        "colab": {
          "base_uri": "https://localhost:8080/"
        },
        "id": "2XLUO0V_Tf8b",
        "outputId": "5dd8e03b-794d-498e-d54f-64422f32bed4"
      },
      "outputs": [
        {
          "name": "stdout",
          "output_type": "stream",
          "text": [
            "Collecting ultralytics\n",
            "  Downloading ultralytics-8.2.26-py3-none-any.whl (779 kB)\n",
            "\u001b[2K     \u001b[90m━━━━━━━━━━━━━━━━━━━━━━━━━━━━━━━━━━━━━━━━\u001b[0m \u001b[32m779.4/779.4 kB\u001b[0m \u001b[31m6.0 MB/s\u001b[0m eta \u001b[36m0:00:00\u001b[0m\n",
            "\u001b[?25hRequirement already satisfied: matplotlib>=3.3.0 in /usr/local/lib/python3.10/dist-packages (from ultralytics) (3.7.1)\n",
            "Requirement already satisfied: opencv-python>=4.6.0 in /usr/local/lib/python3.10/dist-packages (from ultralytics) (4.8.0.76)\n",
            "Requirement already satisfied: pillow>=7.1.2 in /usr/local/lib/python3.10/dist-packages (from ultralytics) (9.4.0)\n",
            "Requirement already satisfied: pyyaml>=5.3.1 in /usr/local/lib/python3.10/dist-packages (from ultralytics) (6.0.1)\n",
            "Requirement already satisfied: requests>=2.23.0 in /usr/local/lib/python3.10/dist-packages (from ultralytics) (2.31.0)\n",
            "Requirement already satisfied: scipy>=1.4.1 in /usr/local/lib/python3.10/dist-packages (from ultralytics) (1.11.4)\n",
            "Requirement already satisfied: torch>=1.8.0 in /usr/local/lib/python3.10/dist-packages (from ultralytics) (2.3.0+cu121)\n",
            "Requirement already satisfied: torchvision>=0.9.0 in /usr/local/lib/python3.10/dist-packages (from ultralytics) (0.18.0+cu121)\n",
            "Requirement already satisfied: tqdm>=4.64.0 in /usr/local/lib/python3.10/dist-packages (from ultralytics) (4.66.4)\n",
            "Requirement already satisfied: psutil in /usr/local/lib/python3.10/dist-packages (from ultralytics) (5.9.5)\n",
            "Requirement already satisfied: py-cpuinfo in /usr/local/lib/python3.10/dist-packages (from ultralytics) (9.0.0)\n",
            "Collecting thop>=0.1.1 (from ultralytics)\n",
            "  Downloading thop-0.1.1.post2209072238-py3-none-any.whl (15 kB)\n",
            "Requirement already satisfied: pandas>=1.1.4 in /usr/local/lib/python3.10/dist-packages (from ultralytics) (2.0.3)\n",
            "Requirement already satisfied: seaborn>=0.11.0 in /usr/local/lib/python3.10/dist-packages (from ultralytics) (0.13.1)\n",
            "Requirement already satisfied: contourpy>=1.0.1 in /usr/local/lib/python3.10/dist-packages (from matplotlib>=3.3.0->ultralytics) (1.2.1)\n",
            "Requirement already satisfied: cycler>=0.10 in /usr/local/lib/python3.10/dist-packages (from matplotlib>=3.3.0->ultralytics) (0.12.1)\n",
            "Requirement already satisfied: fonttools>=4.22.0 in /usr/local/lib/python3.10/dist-packages (from matplotlib>=3.3.0->ultralytics) (4.51.0)\n",
            "Requirement already satisfied: kiwisolver>=1.0.1 in /usr/local/lib/python3.10/dist-packages (from matplotlib>=3.3.0->ultralytics) (1.4.5)\n",
            "Requirement already satisfied: numpy>=1.20 in /usr/local/lib/python3.10/dist-packages (from matplotlib>=3.3.0->ultralytics) (1.25.2)\n",
            "Requirement already satisfied: packaging>=20.0 in /usr/local/lib/python3.10/dist-packages (from matplotlib>=3.3.0->ultralytics) (24.0)\n",
            "Requirement already satisfied: pyparsing>=2.3.1 in /usr/local/lib/python3.10/dist-packages (from matplotlib>=3.3.0->ultralytics) (3.1.2)\n",
            "Requirement already satisfied: python-dateutil>=2.7 in /usr/local/lib/python3.10/dist-packages (from matplotlib>=3.3.0->ultralytics) (2.8.2)\n",
            "Requirement already satisfied: pytz>=2020.1 in /usr/local/lib/python3.10/dist-packages (from pandas>=1.1.4->ultralytics) (2023.4)\n",
            "Requirement already satisfied: tzdata>=2022.1 in /usr/local/lib/python3.10/dist-packages (from pandas>=1.1.4->ultralytics) (2024.1)\n",
            "Requirement already satisfied: charset-normalizer<4,>=2 in /usr/local/lib/python3.10/dist-packages (from requests>=2.23.0->ultralytics) (3.3.2)\n",
            "Requirement already satisfied: idna<4,>=2.5 in /usr/local/lib/python3.10/dist-packages (from requests>=2.23.0->ultralytics) (3.7)\n",
            "Requirement already satisfied: urllib3<3,>=1.21.1 in /usr/local/lib/python3.10/dist-packages (from requests>=2.23.0->ultralytics) (2.0.7)\n",
            "Requirement already satisfied: certifi>=2017.4.17 in /usr/local/lib/python3.10/dist-packages (from requests>=2.23.0->ultralytics) (2024.2.2)\n",
            "Requirement already satisfied: filelock in /usr/local/lib/python3.10/dist-packages (from torch>=1.8.0->ultralytics) (3.14.0)\n",
            "Requirement already satisfied: typing-extensions>=4.8.0 in /usr/local/lib/python3.10/dist-packages (from torch>=1.8.0->ultralytics) (4.11.0)\n",
            "Requirement already satisfied: sympy in /usr/local/lib/python3.10/dist-packages (from torch>=1.8.0->ultralytics) (1.12)\n",
            "Requirement already satisfied: networkx in /usr/local/lib/python3.10/dist-packages (from torch>=1.8.0->ultralytics) (3.3)\n",
            "Requirement already satisfied: jinja2 in /usr/local/lib/python3.10/dist-packages (from torch>=1.8.0->ultralytics) (3.1.4)\n",
            "Requirement already satisfied: fsspec in /usr/local/lib/python3.10/dist-packages (from torch>=1.8.0->ultralytics) (2023.6.0)\n",
            "Collecting nvidia-cuda-nvrtc-cu12==12.1.105 (from torch>=1.8.0->ultralytics)\n",
            "  Using cached nvidia_cuda_nvrtc_cu12-12.1.105-py3-none-manylinux1_x86_64.whl (23.7 MB)\n",
            "Collecting nvidia-cuda-runtime-cu12==12.1.105 (from torch>=1.8.0->ultralytics)\n",
            "  Using cached nvidia_cuda_runtime_cu12-12.1.105-py3-none-manylinux1_x86_64.whl (823 kB)\n",
            "Collecting nvidia-cuda-cupti-cu12==12.1.105 (from torch>=1.8.0->ultralytics)\n",
            "  Using cached nvidia_cuda_cupti_cu12-12.1.105-py3-none-manylinux1_x86_64.whl (14.1 MB)\n",
            "Collecting nvidia-cudnn-cu12==8.9.2.26 (from torch>=1.8.0->ultralytics)\n",
            "  Using cached nvidia_cudnn_cu12-8.9.2.26-py3-none-manylinux1_x86_64.whl (731.7 MB)\n",
            "Collecting nvidia-cublas-cu12==12.1.3.1 (from torch>=1.8.0->ultralytics)\n",
            "  Using cached nvidia_cublas_cu12-12.1.3.1-py3-none-manylinux1_x86_64.whl (410.6 MB)\n",
            "Collecting nvidia-cufft-cu12==11.0.2.54 (from torch>=1.8.0->ultralytics)\n",
            "  Using cached nvidia_cufft_cu12-11.0.2.54-py3-none-manylinux1_x86_64.whl (121.6 MB)\n",
            "Collecting nvidia-curand-cu12==10.3.2.106 (from torch>=1.8.0->ultralytics)\n",
            "  Using cached nvidia_curand_cu12-10.3.2.106-py3-none-manylinux1_x86_64.whl (56.5 MB)\n",
            "Collecting nvidia-cusolver-cu12==11.4.5.107 (from torch>=1.8.0->ultralytics)\n",
            "  Using cached nvidia_cusolver_cu12-11.4.5.107-py3-none-manylinux1_x86_64.whl (124.2 MB)\n",
            "Collecting nvidia-cusparse-cu12==12.1.0.106 (from torch>=1.8.0->ultralytics)\n",
            "  Using cached nvidia_cusparse_cu12-12.1.0.106-py3-none-manylinux1_x86_64.whl (196.0 MB)\n",
            "Collecting nvidia-nccl-cu12==2.20.5 (from torch>=1.8.0->ultralytics)\n",
            "  Using cached nvidia_nccl_cu12-2.20.5-py3-none-manylinux2014_x86_64.whl (176.2 MB)\n",
            "Collecting nvidia-nvtx-cu12==12.1.105 (from torch>=1.8.0->ultralytics)\n",
            "  Using cached nvidia_nvtx_cu12-12.1.105-py3-none-manylinux1_x86_64.whl (99 kB)\n",
            "Requirement already satisfied: triton==2.3.0 in /usr/local/lib/python3.10/dist-packages (from torch>=1.8.0->ultralytics) (2.3.0)\n",
            "Collecting nvidia-nvjitlink-cu12 (from nvidia-cusolver-cu12==11.4.5.107->torch>=1.8.0->ultralytics)\n",
            "  Downloading nvidia_nvjitlink_cu12-12.5.40-py3-none-manylinux2014_x86_64.whl (21.3 MB)\n",
            "\u001b[2K     \u001b[90m━━━━━━━━━━━━━━━━━━━━━━━━━━━━━━━━━━━━━━━━\u001b[0m \u001b[32m21.3/21.3 MB\u001b[0m \u001b[31m29.6 MB/s\u001b[0m eta \u001b[36m0:00:00\u001b[0m\n",
            "\u001b[?25hRequirement already satisfied: six>=1.5 in /usr/local/lib/python3.10/dist-packages (from python-dateutil>=2.7->matplotlib>=3.3.0->ultralytics) (1.16.0)\n",
            "Requirement already satisfied: MarkupSafe>=2.0 in /usr/local/lib/python3.10/dist-packages (from jinja2->torch>=1.8.0->ultralytics) (2.1.5)\n",
            "Requirement already satisfied: mpmath>=0.19 in /usr/local/lib/python3.10/dist-packages (from sympy->torch>=1.8.0->ultralytics) (1.3.0)\n",
            "Installing collected packages: nvidia-nvtx-cu12, nvidia-nvjitlink-cu12, nvidia-nccl-cu12, nvidia-curand-cu12, nvidia-cufft-cu12, nvidia-cuda-runtime-cu12, nvidia-cuda-nvrtc-cu12, nvidia-cuda-cupti-cu12, nvidia-cublas-cu12, nvidia-cusparse-cu12, nvidia-cudnn-cu12, nvidia-cusolver-cu12, thop, ultralytics\n",
            "Successfully installed nvidia-cublas-cu12-12.1.3.1 nvidia-cuda-cupti-cu12-12.1.105 nvidia-cuda-nvrtc-cu12-12.1.105 nvidia-cuda-runtime-cu12-12.1.105 nvidia-cudnn-cu12-8.9.2.26 nvidia-cufft-cu12-11.0.2.54 nvidia-curand-cu12-10.3.2.106 nvidia-cusolver-cu12-11.4.5.107 nvidia-cusparse-cu12-12.1.0.106 nvidia-nccl-cu12-2.20.5 nvidia-nvjitlink-cu12-12.5.40 nvidia-nvtx-cu12-12.1.105 thop-0.1.1.post2209072238 ultralytics-8.2.26\n"
          ]
        }
      ],
      "source": [
        "!pip install ultralytics"
      ]
    },
    {
      "cell_type": "code",
      "execution_count": 2,
      "metadata": {
        "colab": {
          "base_uri": "https://localhost:8080/",
          "height": 1000
        },
        "id": "jZ1xsQ9pewh2",
        "outputId": "de520a2c-f94f-4d50-8423-9d282d88471a"
      },
      "outputs": [
        {
          "name": "stdout",
          "output_type": "stream",
          "text": [
            "Collecting roboflow\n",
            "  Downloading roboflow-1.1.30-py3-none-any.whl (75 kB)\n",
            "\u001b[2K     \u001b[90m━━━━━━━━━━━━━━━━━━━━━━━━━━━━━━━━━━━━━━━━\u001b[0m \u001b[32m75.5/75.5 kB\u001b[0m \u001b[31m3.0 MB/s\u001b[0m eta \u001b[36m0:00:00\u001b[0m\n",
            "\u001b[?25hCollecting certifi==2023.7.22 (from roboflow)\n",
            "  Downloading certifi-2023.7.22-py3-none-any.whl (158 kB)\n",
            "\u001b[2K     \u001b[90m━━━━━━━━━━━━━━━━━━━━━━━━━━━━━━━━━━━━━━━━\u001b[0m \u001b[32m158.3/158.3 kB\u001b[0m \u001b[31m7.4 MB/s\u001b[0m eta \u001b[36m0:00:00\u001b[0m\n",
            "\u001b[?25hCollecting chardet==4.0.0 (from roboflow)\n",
            "  Downloading chardet-4.0.0-py2.py3-none-any.whl (178 kB)\n",
            "\u001b[2K     \u001b[90m━━━━━━━━━━━━━━━━━━━━━━━━━━━━━━━━━━━━━━━━\u001b[0m \u001b[32m178.7/178.7 kB\u001b[0m \u001b[31m9.3 MB/s\u001b[0m eta \u001b[36m0:00:00\u001b[0m\n",
            "\u001b[?25hCollecting cycler==0.10.0 (from roboflow)\n",
            "  Downloading cycler-0.10.0-py2.py3-none-any.whl (6.5 kB)\n",
            "Collecting idna==2.10 (from roboflow)\n",
            "  Downloading idna-2.10-py2.py3-none-any.whl (58 kB)\n",
            "\u001b[2K     \u001b[90m━━━━━━━━━━━━━━━━━━━━━━━━━━━━━━━━━━━━━━━━\u001b[0m \u001b[32m58.8/58.8 kB\u001b[0m \u001b[31m7.9 MB/s\u001b[0m eta \u001b[36m0:00:00\u001b[0m\n",
            "\u001b[?25hRequirement already satisfied: kiwisolver>=1.3.1 in /usr/local/lib/python3.10/dist-packages (from roboflow) (1.4.5)\n",
            "Requirement already satisfied: matplotlib in /usr/local/lib/python3.10/dist-packages (from roboflow) (3.7.1)\n",
            "Requirement already satisfied: numpy>=1.18.5 in /usr/local/lib/python3.10/dist-packages (from roboflow) (1.25.2)\n",
            "Collecting opencv-python-headless==4.8.0.74 (from roboflow)\n",
            "  Downloading opencv_python_headless-4.8.0.74-cp37-abi3-manylinux_2_17_x86_64.manylinux2014_x86_64.whl (49.1 MB)\n",
            "\u001b[2K     \u001b[90m━━━━━━━━━━━━━━━━━━━━━━━━━━━━━━━━━━━━━━━━\u001b[0m \u001b[32m49.1/49.1 MB\u001b[0m \u001b[31m12.1 MB/s\u001b[0m eta \u001b[36m0:00:00\u001b[0m\n",
            "\u001b[?25hRequirement already satisfied: Pillow>=7.1.2 in /usr/local/lib/python3.10/dist-packages (from roboflow) (9.4.0)\n",
            "Requirement already satisfied: python-dateutil in /usr/local/lib/python3.10/dist-packages (from roboflow) (2.8.2)\n",
            "Collecting python-dotenv (from roboflow)\n",
            "  Downloading python_dotenv-1.0.1-py3-none-any.whl (19 kB)\n",
            "Requirement already satisfied: requests in /usr/local/lib/python3.10/dist-packages (from roboflow) (2.31.0)\n",
            "Requirement already satisfied: six in /usr/local/lib/python3.10/dist-packages (from roboflow) (1.16.0)\n",
            "Requirement already satisfied: urllib3>=1.26.6 in /usr/local/lib/python3.10/dist-packages (from roboflow) (2.0.7)\n",
            "Requirement already satisfied: tqdm>=4.41.0 in /usr/local/lib/python3.10/dist-packages (from roboflow) (4.66.4)\n",
            "Requirement already satisfied: PyYAML>=5.3.1 in /usr/local/lib/python3.10/dist-packages (from roboflow) (6.0.1)\n",
            "Collecting requests-toolbelt (from roboflow)\n",
            "  Downloading requests_toolbelt-1.0.0-py2.py3-none-any.whl (54 kB)\n",
            "\u001b[2K     \u001b[90m━━━━━━━━━━━━━━━━━━━━━━━━━━━━━━━━━━━━━━━━\u001b[0m \u001b[32m54.5/54.5 kB\u001b[0m \u001b[31m8.4 MB/s\u001b[0m eta \u001b[36m0:00:00\u001b[0m\n",
            "\u001b[?25hCollecting python-magic (from roboflow)\n",
            "  Downloading python_magic-0.4.27-py2.py3-none-any.whl (13 kB)\n",
            "Requirement already satisfied: contourpy>=1.0.1 in /usr/local/lib/python3.10/dist-packages (from matplotlib->roboflow) (1.2.1)\n",
            "Requirement already satisfied: fonttools>=4.22.0 in /usr/local/lib/python3.10/dist-packages (from matplotlib->roboflow) (4.51.0)\n",
            "Requirement already satisfied: packaging>=20.0 in /usr/local/lib/python3.10/dist-packages (from matplotlib->roboflow) (24.0)\n",
            "Requirement already satisfied: pyparsing>=2.3.1 in /usr/local/lib/python3.10/dist-packages (from matplotlib->roboflow) (3.1.2)\n",
            "Requirement already satisfied: charset-normalizer<4,>=2 in /usr/local/lib/python3.10/dist-packages (from requests->roboflow) (3.3.2)\n",
            "Installing collected packages: python-magic, python-dotenv, opencv-python-headless, idna, cycler, chardet, certifi, requests-toolbelt, roboflow\n",
            "  Attempting uninstall: opencv-python-headless\n",
            "    Found existing installation: opencv-python-headless 4.9.0.80\n",
            "    Uninstalling opencv-python-headless-4.9.0.80:\n",
            "      Successfully uninstalled opencv-python-headless-4.9.0.80\n",
            "  Attempting uninstall: idna\n",
            "    Found existing installation: idna 3.7\n",
            "    Uninstalling idna-3.7:\n",
            "      Successfully uninstalled idna-3.7\n",
            "  Attempting uninstall: cycler\n",
            "    Found existing installation: cycler 0.12.1\n",
            "    Uninstalling cycler-0.12.1:\n",
            "      Successfully uninstalled cycler-0.12.1\n",
            "  Attempting uninstall: chardet\n",
            "    Found existing installation: chardet 5.2.0\n",
            "    Uninstalling chardet-5.2.0:\n",
            "      Successfully uninstalled chardet-5.2.0\n",
            "  Attempting uninstall: certifi\n",
            "    Found existing installation: certifi 2024.2.2\n",
            "    Uninstalling certifi-2024.2.2:\n",
            "      Successfully uninstalled certifi-2024.2.2\n",
            "Successfully installed certifi-2023.7.22 chardet-4.0.0 cycler-0.10.0 idna-2.10 opencv-python-headless-4.8.0.74 python-dotenv-1.0.1 python-magic-0.4.27 requests-toolbelt-1.0.0 roboflow-1.1.30\n"
          ]
        },
        {
          "data": {
            "application/vnd.colab-display-data+json": {
              "id": "78d576217d544406917b0662ed81561a",
              "pip_warning": {
                "packages": [
                  "certifi",
                  "cycler"
                ]
              }
            }
          },
          "metadata": {},
          "output_type": "display_data"
        }
      ],
      "source": [
        "!pip install roboflow"
      ]
    },
    {
      "cell_type": "code",
      "execution_count": 3,
      "metadata": {
        "colab": {
          "base_uri": "https://localhost:8080/"
        },
        "id": "TQcUofDpTIlO",
        "outputId": "a2381727-9abe-4579-fe18-2d03a156c88e"
      },
      "outputs": [
        {
          "name": "stdout",
          "output_type": "stream",
          "text": [
            "loading Roboflow workspace...\n",
            "loading Roboflow project...\n",
            "Dependency ultralytics==8.0.196 is required but found version=8.2.26, to fix: `pip install ultralytics==8.0.196`\n"
          ]
        },
        {
          "name": "stderr",
          "output_type": "stream",
          "text": [
            "Downloading Dataset Version Zip in Face-Detection-24 to yolov8:: 100%|██████████| 74743/74743 [00:01<00:00, 45193.63it/s]"
          ]
        },
        {
          "name": "stdout",
          "output_type": "stream",
          "text": [
            "\n"
          ]
        },
        {
          "name": "stderr",
          "output_type": "stream",
          "text": [
            "\n",
            "Extracting Dataset Version Zip to Face-Detection-24 in yolov8:: 100%|██████████| 7643/7643 [00:02<00:00, 3431.63it/s]\n"
          ]
        }
      ],
      "source": [
        "from roboflow import Roboflow\n",
        "rf = Roboflow(api_key=\"5TyzPI8saGGAmptE4P8R\")\n",
        "project = rf.workspace(\"mohamed-traore-2ekkp\").project(\"face-detection-mik1i\")\n",
        "version = project.version(24)\n",
        "dataset = version.download(\"yolov8\")\n"
      ]
    },
    {
      "cell_type": "code",
      "execution_count": 4,
      "metadata": {
        "colab": {
          "base_uri": "https://localhost:8080/"
        },
        "id": "anTBf3axTJTA",
        "outputId": "31fea741-8678-4f3b-c3b4-23f85cee09d7"
      },
      "outputs": [
        {
          "name": "stdout",
          "output_type": "stream",
          "text": [
            "Downloading https://github.com/ultralytics/assets/releases/download/v8.2.0/yolov8n.pt to 'yolov8n.pt'...\n"
          ]
        },
        {
          "name": "stderr",
          "output_type": "stream",
          "text": [
            "100%|██████████| 6.23M/6.23M [00:00<00:00, 85.1MB/s]\n"
          ]
        }
      ],
      "source": [
        "from ultralytics import YOLO\n",
        "\n",
        "model = YOLO('yolov8n')"
      ]
    },
    {
      "cell_type": "code",
      "execution_count": 5,
      "metadata": {
        "id": "e6iWnkEmb_eW"
      },
      "outputs": [],
      "source": [
        "import shutil as sh"
      ]
    },
    {
      "cell_type": "code",
      "execution_count": 6,
      "metadata": {
        "colab": {
          "base_uri": "https://localhost:8080/",
          "height": 35
        },
        "id": "9Wq4zW8fcCLk",
        "outputId": "0428956f-c703-4f4c-ba32-b7f7321de438"
      },
      "outputs": [
        {
          "data": {
            "application/vnd.google.colaboratory.intrinsic+json": {
              "type": "string"
            },
            "text/plain": [
              "'/content/Face-Detection-24/Face-Detection-24/train'"
            ]
          },
          "execution_count": 6,
          "metadata": {},
          "output_type": "execute_result"
        }
      ],
      "source": [
        "sh.move('/content/Face-Detection-24/test', '/content/Face-Detection-24/Face-Detection-24/valid')\n",
        "sh.move('/content/Face-Detection-24/train', '/content/Face-Detection-24/Face-Detection-24/train')"
      ]
    },
    {
      "cell_type": "code",
      "execution_count": 6,
      "metadata": {
        "id": "jWSnubK1dAVI"
      },
      "outputs": [],
      "source": []
    },
    {
      "cell_type": "code",
      "execution_count": 7,
      "metadata": {
        "colab": {
          "base_uri": "https://localhost:8080/"
        },
        "id": "iQrpuWmpUKRJ",
        "outputId": "4caefba5-4f87-4706-f525-3298394bc6bc"
      },
      "outputs": [
        {
          "name": "stdout",
          "output_type": "stream",
          "text": [
            "Ultralytics YOLOv8.2.26 🚀 Python-3.10.12 torch-2.3.0+cu121 CUDA:0 (Tesla T4, 15102MiB)\n",
            "\u001b[34m\u001b[1mengine/trainer: \u001b[0mtask=detect, mode=train, model=yolov8n.pt, data=/content/Face-Detection-24/data.yaml, epochs=20, time=None, patience=100, batch=16, imgsz=640, save=True, save_period=-1, cache=False, device=None, workers=8, project=None, name=train, exist_ok=False, pretrained=True, optimizer=auto, verbose=True, seed=0, deterministic=True, single_cls=False, rect=False, cos_lr=False, close_mosaic=10, resume=False, amp=True, fraction=1.0, profile=False, freeze=None, multi_scale=False, overlap_mask=True, mask_ratio=4, dropout=0.0, val=True, split=val, save_json=False, save_hybrid=False, conf=None, iou=0.7, max_det=300, half=False, dnn=False, plots=True, source=None, vid_stride=1, stream_buffer=False, visualize=False, augment=False, agnostic_nms=False, classes=None, retina_masks=False, embed=None, show=False, save_frames=False, save_txt=False, save_conf=False, save_crop=False, show_labels=True, show_conf=True, show_boxes=True, line_width=None, format=torchscript, keras=False, optimize=False, int8=False, dynamic=False, simplify=False, opset=None, workspace=4, nms=False, lr0=0.01, lrf=0.01, momentum=0.937, weight_decay=0.0005, warmup_epochs=3.0, warmup_momentum=0.8, warmup_bias_lr=0.1, box=7.5, cls=0.5, dfl=1.5, pose=12.0, kobj=1.0, label_smoothing=0.0, nbs=64, hsv_h=0.015, hsv_s=0.7, hsv_v=0.4, degrees=0.0, translate=0.1, scale=0.5, shear=0.0, perspective=0.0, flipud=0.0, fliplr=0.5, bgr=0.0, mosaic=1.0, mixup=0.0, copy_paste=0.0, auto_augment=randaugment, erasing=0.4, crop_fraction=1.0, cfg=None, tracker=botsort.yaml, save_dir=runs/detect/train\n",
            "Downloading https://ultralytics.com/assets/Arial.ttf to '/root/.config/Ultralytics/Arial.ttf'...\n"
          ]
        },
        {
          "name": "stderr",
          "output_type": "stream",
          "text": [
            "100%|██████████| 755k/755k [00:00<00:00, 23.5MB/s]\n"
          ]
        },
        {
          "name": "stdout",
          "output_type": "stream",
          "text": [
            "Overriding model.yaml nc=80 with nc=1\n",
            "\n",
            "                   from  n    params  module                                       arguments                     \n",
            "  0                  -1  1       464  ultralytics.nn.modules.conv.Conv             [3, 16, 3, 2]                 \n",
            "  1                  -1  1      4672  ultralytics.nn.modules.conv.Conv             [16, 32, 3, 2]                \n",
            "  2                  -1  1      7360  ultralytics.nn.modules.block.C2f             [32, 32, 1, True]             \n",
            "  3                  -1  1     18560  ultralytics.nn.modules.conv.Conv             [32, 64, 3, 2]                \n",
            "  4                  -1  2     49664  ultralytics.nn.modules.block.C2f             [64, 64, 2, True]             \n",
            "  5                  -1  1     73984  ultralytics.nn.modules.conv.Conv             [64, 128, 3, 2]               \n",
            "  6                  -1  2    197632  ultralytics.nn.modules.block.C2f             [128, 128, 2, True]           \n",
            "  7                  -1  1    295424  ultralytics.nn.modules.conv.Conv             [128, 256, 3, 2]              \n",
            "  8                  -1  1    460288  ultralytics.nn.modules.block.C2f             [256, 256, 1, True]           \n",
            "  9                  -1  1    164608  ultralytics.nn.modules.block.SPPF            [256, 256, 5]                 \n",
            " 10                  -1  1         0  torch.nn.modules.upsampling.Upsample         [None, 2, 'nearest']          \n",
            " 11             [-1, 6]  1         0  ultralytics.nn.modules.conv.Concat           [1]                           \n",
            " 12                  -1  1    148224  ultralytics.nn.modules.block.C2f             [384, 128, 1]                 \n",
            " 13                  -1  1         0  torch.nn.modules.upsampling.Upsample         [None, 2, 'nearest']          \n",
            " 14             [-1, 4]  1         0  ultralytics.nn.modules.conv.Concat           [1]                           \n",
            " 15                  -1  1     37248  ultralytics.nn.modules.block.C2f             [192, 64, 1]                  \n",
            " 16                  -1  1     36992  ultralytics.nn.modules.conv.Conv             [64, 64, 3, 2]                \n",
            " 17            [-1, 12]  1         0  ultralytics.nn.modules.conv.Concat           [1]                           \n",
            " 18                  -1  1    123648  ultralytics.nn.modules.block.C2f             [192, 128, 1]                 \n",
            " 19                  -1  1    147712  ultralytics.nn.modules.conv.Conv             [128, 128, 3, 2]              \n",
            " 20             [-1, 9]  1         0  ultralytics.nn.modules.conv.Concat           [1]                           \n",
            " 21                  -1  1    493056  ultralytics.nn.modules.block.C2f             [384, 256, 1]                 \n",
            " 22        [15, 18, 21]  1    751507  ultralytics.nn.modules.head.Detect           [1, [64, 128, 256]]           \n",
            "Model summary: 225 layers, 3011043 parameters, 3011027 gradients, 8.2 GFLOPs\n",
            "\n",
            "Transferred 319/355 items from pretrained weights\n",
            "\u001b[34m\u001b[1mTensorBoard: \u001b[0mStart with 'tensorboard --logdir runs/detect/train', view at http://localhost:6006/\n",
            "Freezing layer 'model.22.dfl.conv.weight'\n",
            "\u001b[34m\u001b[1mAMP: \u001b[0mrunning Automatic Mixed Precision (AMP) checks with YOLOv8n...\n"
          ]
        },
        {
          "name": "stderr",
          "output_type": "stream",
          "text": [
            "Plan failed with a cudnnException: CUDNN_BACKEND_EXECUTION_PLAN_DESCRIPTOR: cudnnFinalize Descriptor Failed cudnn_status: CUDNN_STATUS_NOT_SUPPORTED (Triggered internally at ../aten/src/ATen/native/cudnn/Conv_v8.cpp:919.)\n"
          ]
        },
        {
          "name": "stdout",
          "output_type": "stream",
          "text": [
            "\u001b[34m\u001b[1mAMP: \u001b[0mchecks passed ✅\n"
          ]
        },
        {
          "name": "stderr",
          "output_type": "stream",
          "text": [
            "\u001b[34m\u001b[1mtrain: \u001b[0mScanning /content/Face-Detection-24/Face-Detection-24/train/labels... 3672 images, 684 backgrounds, 0 corrupt: 100%|██████████| 3672/3672 [00:01<00:00, 2264.92it/s]\n"
          ]
        },
        {
          "name": "stdout",
          "output_type": "stream",
          "text": [
            "\u001b[34m\u001b[1mtrain: \u001b[0mNew cache created: /content/Face-Detection-24/Face-Detection-24/train/labels.cache\n",
            "\u001b[34m\u001b[1malbumentations: \u001b[0mBlur(p=0.01, blur_limit=(3, 7)), MedianBlur(p=0.01, blur_limit=(3, 7)), ToGray(p=0.01), CLAHE(p=0.01, clip_limit=(1, 4.0), tile_grid_size=(8, 8))\n"
          ]
        },
        {
          "name": "stderr",
          "output_type": "stream",
          "text": [
            "os.fork() was called. os.fork() is incompatible with multithreaded code, and JAX is multithreaded, so this will likely lead to a deadlock.\n",
            "\u001b[34m\u001b[1mval: \u001b[0mScanning /content/Face-Detection-24/Face-Detection-24/valid/labels... 145 images, 26 backgrounds, 0 corrupt: 100%|██████████| 145/145 [00:00<00:00, 857.59it/s]"
          ]
        },
        {
          "name": "stdout",
          "output_type": "stream",
          "text": [
            "\u001b[34m\u001b[1mval: \u001b[0mNew cache created: /content/Face-Detection-24/Face-Detection-24/valid/labels.cache\n"
          ]
        },
        {
          "name": "stderr",
          "output_type": "stream",
          "text": [
            "\n"
          ]
        },
        {
          "name": "stdout",
          "output_type": "stream",
          "text": [
            "Plotting labels to runs/detect/train/labels.jpg... \n",
            "\u001b[34m\u001b[1moptimizer:\u001b[0m 'optimizer=auto' found, ignoring 'lr0=0.01' and 'momentum=0.937' and determining best 'optimizer', 'lr0' and 'momentum' automatically... \n",
            "\u001b[34m\u001b[1moptimizer:\u001b[0m AdamW(lr=0.002, momentum=0.9) with parameter groups 57 weight(decay=0.0), 64 weight(decay=0.0005), 63 bias(decay=0.0)\n",
            "\u001b[34m\u001b[1mTensorBoard: \u001b[0mmodel graph visualization added ✅\n",
            "Image sizes 640 train, 640 val\n",
            "Using 2 dataloader workers\n",
            "Logging results to \u001b[1mruns/detect/train\u001b[0m\n",
            "Starting training for 20 epochs...\n",
            "\n",
            "      Epoch    GPU_mem   box_loss   cls_loss   dfl_loss  Instances       Size\n"
          ]
        },
        {
          "name": "stderr",
          "output_type": "stream",
          "text": [
            "       1/20       2.9G        1.6      2.068       1.55         19        640: 100%|██████████| 230/230 [01:27<00:00,  2.63it/s]\n",
            "                 Class     Images  Instances      Box(P          R      mAP50  mAP50-95): 100%|██████████| 5/5 [00:03<00:00,  1.32it/s]"
          ]
        },
        {
          "name": "stdout",
          "output_type": "stream",
          "text": [
            "                   all        145        238      0.766      0.744      0.795       0.39\n"
          ]
        },
        {
          "name": "stderr",
          "output_type": "stream",
          "text": [
            "\n"
          ]
        },
        {
          "name": "stdout",
          "output_type": "stream",
          "text": [
            "\n",
            "      Epoch    GPU_mem   box_loss   cls_loss   dfl_loss  Instances       Size\n"
          ]
        },
        {
          "name": "stderr",
          "output_type": "stream",
          "text": [
            "       2/20      2.45G      1.622      1.638      1.557         22        640: 100%|██████████| 230/230 [01:15<00:00,  3.04it/s]\n",
            "                 Class     Images  Instances      Box(P          R      mAP50  mAP50-95): 100%|██████████| 5/5 [00:01<00:00,  3.96it/s]"
          ]
        },
        {
          "name": "stdout",
          "output_type": "stream",
          "text": [
            "                   all        145        238      0.796      0.671      0.772      0.378\n"
          ]
        },
        {
          "name": "stderr",
          "output_type": "stream",
          "text": [
            "\n"
          ]
        },
        {
          "name": "stdout",
          "output_type": "stream",
          "text": [
            "\n",
            "      Epoch    GPU_mem   box_loss   cls_loss   dfl_loss  Instances       Size\n"
          ]
        },
        {
          "name": "stderr",
          "output_type": "stream",
          "text": [
            "       3/20      2.68G      1.626      1.499      1.556         24        640: 100%|██████████| 230/230 [01:14<00:00,  3.08it/s]\n",
            "                 Class     Images  Instances      Box(P          R      mAP50  mAP50-95): 100%|██████████| 5/5 [00:01<00:00,  3.29it/s]"
          ]
        },
        {
          "name": "stdout",
          "output_type": "stream",
          "text": [
            "                   all        145        238      0.662       0.75      0.751      0.416\n"
          ]
        },
        {
          "name": "stderr",
          "output_type": "stream",
          "text": [
            "\n"
          ]
        },
        {
          "name": "stdout",
          "output_type": "stream",
          "text": [
            "\n",
            "      Epoch    GPU_mem   box_loss   cls_loss   dfl_loss  Instances       Size\n"
          ]
        },
        {
          "name": "stderr",
          "output_type": "stream",
          "text": [
            "       4/20       2.3G      1.558      1.389      1.515         39        640: 100%|██████████| 230/230 [01:18<00:00,  2.94it/s]\n",
            "                 Class     Images  Instances      Box(P          R      mAP50  mAP50-95): 100%|██████████| 5/5 [00:02<00:00,  1.77it/s]"
          ]
        },
        {
          "name": "stdout",
          "output_type": "stream",
          "text": [
            "                   all        145        238       0.77      0.664       0.78      0.403\n"
          ]
        },
        {
          "name": "stderr",
          "output_type": "stream",
          "text": [
            "\n"
          ]
        },
        {
          "name": "stdout",
          "output_type": "stream",
          "text": [
            "\n",
            "      Epoch    GPU_mem   box_loss   cls_loss   dfl_loss  Instances       Size\n"
          ]
        },
        {
          "name": "stderr",
          "output_type": "stream",
          "text": [
            "       5/20      2.62G       1.51       1.27      1.451         20        640: 100%|██████████| 230/230 [01:14<00:00,  3.08it/s]\n",
            "                 Class     Images  Instances      Box(P          R      mAP50  mAP50-95): 100%|██████████| 5/5 [00:02<00:00,  2.29it/s]"
          ]
        },
        {
          "name": "stdout",
          "output_type": "stream",
          "text": [
            "                   all        145        238      0.792      0.761      0.835      0.472\n"
          ]
        },
        {
          "name": "stderr",
          "output_type": "stream",
          "text": [
            "\n"
          ]
        },
        {
          "name": "stdout",
          "output_type": "stream",
          "text": [
            "\n",
            "      Epoch    GPU_mem   box_loss   cls_loss   dfl_loss  Instances       Size\n"
          ]
        },
        {
          "name": "stderr",
          "output_type": "stream",
          "text": [
            "       6/20      2.73G      1.469      1.218      1.435         30        640: 100%|██████████| 230/230 [01:15<00:00,  3.05it/s]\n",
            "                 Class     Images  Instances      Box(P          R      mAP50  mAP50-95): 100%|██████████| 5/5 [00:01<00:00,  3.35it/s]"
          ]
        },
        {
          "name": "stdout",
          "output_type": "stream",
          "text": [
            "                   all        145        238      0.887      0.836      0.913      0.545\n"
          ]
        },
        {
          "name": "stderr",
          "output_type": "stream",
          "text": [
            "\n"
          ]
        },
        {
          "name": "stdout",
          "output_type": "stream",
          "text": [
            "\n",
            "      Epoch    GPU_mem   box_loss   cls_loss   dfl_loss  Instances       Size\n"
          ]
        },
        {
          "name": "stderr",
          "output_type": "stream",
          "text": [
            "       7/20      2.62G      1.429      1.154      1.404         14        640: 100%|██████████| 230/230 [01:18<00:00,  2.95it/s]\n",
            "                 Class     Images  Instances      Box(P          R      mAP50  mAP50-95): 100%|██████████| 5/5 [00:01<00:00,  3.24it/s]"
          ]
        },
        {
          "name": "stdout",
          "output_type": "stream",
          "text": [
            "                   all        145        238       0.87      0.819      0.915      0.573\n"
          ]
        },
        {
          "name": "stderr",
          "output_type": "stream",
          "text": [
            "\n"
          ]
        },
        {
          "name": "stdout",
          "output_type": "stream",
          "text": [
            "\n",
            "      Epoch    GPU_mem   box_loss   cls_loss   dfl_loss  Instances       Size\n"
          ]
        },
        {
          "name": "stderr",
          "output_type": "stream",
          "text": [
            "       8/20      2.66G      1.396       1.07      1.373         20        640: 100%|██████████| 230/230 [01:16<00:00,  3.00it/s]\n",
            "                 Class     Images  Instances      Box(P          R      mAP50  mAP50-95): 100%|██████████| 5/5 [00:01<00:00,  2.99it/s]"
          ]
        },
        {
          "name": "stdout",
          "output_type": "stream",
          "text": [
            "                   all        145        238      0.933      0.798      0.921      0.573\n"
          ]
        },
        {
          "name": "stderr",
          "output_type": "stream",
          "text": [
            "\n"
          ]
        },
        {
          "name": "stdout",
          "output_type": "stream",
          "text": [
            "\n",
            "      Epoch    GPU_mem   box_loss   cls_loss   dfl_loss  Instances       Size\n"
          ]
        },
        {
          "name": "stderr",
          "output_type": "stream",
          "text": [
            "       9/20      2.68G      1.355       1.05      1.344         13        640: 100%|██████████| 230/230 [01:15<00:00,  3.04it/s]\n",
            "                 Class     Images  Instances      Box(P          R      mAP50  mAP50-95): 100%|██████████| 5/5 [00:02<00:00,  1.96it/s]"
          ]
        },
        {
          "name": "stdout",
          "output_type": "stream",
          "text": [
            "                   all        145        238      0.908      0.845      0.901      0.499\n"
          ]
        },
        {
          "name": "stderr",
          "output_type": "stream",
          "text": [
            "\n"
          ]
        },
        {
          "name": "stdout",
          "output_type": "stream",
          "text": [
            "\n",
            "      Epoch    GPU_mem   box_loss   cls_loss   dfl_loss  Instances       Size\n"
          ]
        },
        {
          "name": "stderr",
          "output_type": "stream",
          "text": [
            "      10/20      2.74G      1.332      1.019      1.341         24        640: 100%|██████████| 230/230 [01:17<00:00,  2.98it/s]\n",
            "                 Class     Images  Instances      Box(P          R      mAP50  mAP50-95): 100%|██████████| 5/5 [00:03<00:00,  1.57it/s]"
          ]
        },
        {
          "name": "stdout",
          "output_type": "stream",
          "text": [
            "                   all        145        238       0.86      0.849      0.924      0.569\n"
          ]
        },
        {
          "name": "stderr",
          "output_type": "stream",
          "text": [
            "\n"
          ]
        },
        {
          "name": "stdout",
          "output_type": "stream",
          "text": [
            "Closing dataloader mosaic\n",
            "\u001b[34m\u001b[1malbumentations: \u001b[0mBlur(p=0.01, blur_limit=(3, 7)), MedianBlur(p=0.01, blur_limit=(3, 7)), ToGray(p=0.01), CLAHE(p=0.01, clip_limit=(1, 4.0), tile_grid_size=(8, 8))\n"
          ]
        },
        {
          "name": "stderr",
          "output_type": "stream",
          "text": [
            "os.fork() was called. os.fork() is incompatible with multithreaded code, and JAX is multithreaded, so this will likely lead to a deadlock.\n"
          ]
        },
        {
          "name": "stdout",
          "output_type": "stream",
          "text": [
            "\n",
            "      Epoch    GPU_mem   box_loss   cls_loss   dfl_loss  Instances       Size\n"
          ]
        },
        {
          "name": "stderr",
          "output_type": "stream",
          "text": [
            "      11/20       2.9G      1.279     0.8805      1.345          6        640: 100%|██████████| 230/230 [01:13<00:00,  3.11it/s]\n",
            "                 Class     Images  Instances      Box(P          R      mAP50  mAP50-95): 100%|██████████| 5/5 [00:01<00:00,  3.53it/s]"
          ]
        },
        {
          "name": "stdout",
          "output_type": "stream",
          "text": [
            "                   all        145        238      0.916      0.867      0.938      0.582\n"
          ]
        },
        {
          "name": "stderr",
          "output_type": "stream",
          "text": [
            "\n"
          ]
        },
        {
          "name": "stdout",
          "output_type": "stream",
          "text": [
            "\n",
            "      Epoch    GPU_mem   box_loss   cls_loss   dfl_loss  Instances       Size\n"
          ]
        },
        {
          "name": "stderr",
          "output_type": "stream",
          "text": [
            "      12/20      2.63G      1.218     0.8433      1.307         19        640: 100%|██████████| 230/230 [01:10<00:00,  3.28it/s]\n",
            "                 Class     Images  Instances      Box(P          R      mAP50  mAP50-95): 100%|██████████| 5/5 [00:01<00:00,  3.54it/s]"
          ]
        },
        {
          "name": "stdout",
          "output_type": "stream",
          "text": [
            "                   all        145        238      0.876      0.864       0.92      0.604\n"
          ]
        },
        {
          "name": "stderr",
          "output_type": "stream",
          "text": [
            "\n"
          ]
        },
        {
          "name": "stdout",
          "output_type": "stream",
          "text": [
            "\n",
            "      Epoch    GPU_mem   box_loss   cls_loss   dfl_loss  Instances       Size\n"
          ]
        },
        {
          "name": "stderr",
          "output_type": "stream",
          "text": [
            "      13/20      2.68G      1.192     0.7978      1.287          6        640: 100%|██████████| 230/230 [01:10<00:00,  3.28it/s]\n",
            "                 Class     Images  Instances      Box(P          R      mAP50  mAP50-95): 100%|██████████| 5/5 [00:02<00:00,  1.94it/s]"
          ]
        },
        {
          "name": "stdout",
          "output_type": "stream",
          "text": [
            "                   all        145        238      0.885      0.872      0.929      0.608\n"
          ]
        },
        {
          "name": "stderr",
          "output_type": "stream",
          "text": [
            "\n"
          ]
        },
        {
          "name": "stdout",
          "output_type": "stream",
          "text": [
            "\n",
            "      Epoch    GPU_mem   box_loss   cls_loss   dfl_loss  Instances       Size\n"
          ]
        },
        {
          "name": "stderr",
          "output_type": "stream",
          "text": [
            "      14/20      2.49G      1.167     0.7712      1.262         14        640: 100%|██████████| 230/230 [01:13<00:00,  3.11it/s]\n",
            "                 Class     Images  Instances      Box(P          R      mAP50  mAP50-95): 100%|██████████| 5/5 [00:01<00:00,  3.44it/s]"
          ]
        },
        {
          "name": "stdout",
          "output_type": "stream",
          "text": [
            "                   all        145        238      0.932       0.86      0.926      0.597\n"
          ]
        },
        {
          "name": "stderr",
          "output_type": "stream",
          "text": [
            "\n"
          ]
        },
        {
          "name": "stdout",
          "output_type": "stream",
          "text": [
            "\n",
            "      Epoch    GPU_mem   box_loss   cls_loss   dfl_loss  Instances       Size\n"
          ]
        },
        {
          "name": "stderr",
          "output_type": "stream",
          "text": [
            "      15/20      2.58G      1.114     0.7242      1.234         10        640: 100%|██████████| 230/230 [01:11<00:00,  3.23it/s]\n",
            "                 Class     Images  Instances      Box(P          R      mAP50  mAP50-95): 100%|██████████| 5/5 [00:02<00:00,  2.04it/s]"
          ]
        },
        {
          "name": "stdout",
          "output_type": "stream",
          "text": [
            "                   all        145        238      0.933      0.866      0.946      0.618\n"
          ]
        },
        {
          "name": "stderr",
          "output_type": "stream",
          "text": [
            "\n"
          ]
        },
        {
          "name": "stdout",
          "output_type": "stream",
          "text": [
            "\n",
            "      Epoch    GPU_mem   box_loss   cls_loss   dfl_loss  Instances       Size\n"
          ]
        },
        {
          "name": "stderr",
          "output_type": "stream",
          "text": [
            "      16/20      2.54G      1.097     0.7023      1.227          4        640: 100%|██████████| 230/230 [01:09<00:00,  3.31it/s]\n",
            "                 Class     Images  Instances      Box(P          R      mAP50  mAP50-95): 100%|██████████| 5/5 [00:02<00:00,  1.86it/s]"
          ]
        },
        {
          "name": "stdout",
          "output_type": "stream",
          "text": [
            "                   all        145        238      0.917       0.87      0.945      0.636\n"
          ]
        },
        {
          "name": "stderr",
          "output_type": "stream",
          "text": [
            "\n"
          ]
        },
        {
          "name": "stdout",
          "output_type": "stream",
          "text": [
            "\n",
            "      Epoch    GPU_mem   box_loss   cls_loss   dfl_loss  Instances       Size\n"
          ]
        },
        {
          "name": "stderr",
          "output_type": "stream",
          "text": [
            "      17/20       2.5G      1.048     0.6619      1.193         11        640: 100%|██████████| 230/230 [01:15<00:00,  3.04it/s]\n",
            "                 Class     Images  Instances      Box(P          R      mAP50  mAP50-95): 100%|██████████| 5/5 [00:02<00:00,  2.13it/s]"
          ]
        },
        {
          "name": "stdout",
          "output_type": "stream",
          "text": [
            "                   all        145        238      0.918      0.874      0.934      0.622\n"
          ]
        },
        {
          "name": "stderr",
          "output_type": "stream",
          "text": [
            "\n"
          ]
        },
        {
          "name": "stdout",
          "output_type": "stream",
          "text": [
            "\n",
            "      Epoch    GPU_mem   box_loss   cls_loss   dfl_loss  Instances       Size\n"
          ]
        },
        {
          "name": "stderr",
          "output_type": "stream",
          "text": [
            "      18/20      2.74G      1.031       0.64      1.176         11        640: 100%|██████████| 230/230 [01:08<00:00,  3.37it/s]\n",
            "                 Class     Images  Instances      Box(P          R      mAP50  mAP50-95): 100%|██████████| 5/5 [00:02<00:00,  1.93it/s]"
          ]
        },
        {
          "name": "stdout",
          "output_type": "stream",
          "text": [
            "                   all        145        238      0.908      0.869       0.93        0.6\n"
          ]
        },
        {
          "name": "stderr",
          "output_type": "stream",
          "text": [
            "\n"
          ]
        },
        {
          "name": "stdout",
          "output_type": "stream",
          "text": [
            "\n",
            "      Epoch    GPU_mem   box_loss   cls_loss   dfl_loss  Instances       Size\n"
          ]
        },
        {
          "name": "stderr",
          "output_type": "stream",
          "text": [
            "      19/20      2.47G     0.9991     0.6191       1.16         10        640: 100%|██████████| 230/230 [01:08<00:00,  3.36it/s]\n",
            "                 Class     Images  Instances      Box(P          R      mAP50  mAP50-95): 100%|██████████| 5/5 [00:01<00:00,  3.09it/s]"
          ]
        },
        {
          "name": "stdout",
          "output_type": "stream",
          "text": [
            "                   all        145        238      0.931      0.906      0.956      0.645\n"
          ]
        },
        {
          "name": "stderr",
          "output_type": "stream",
          "text": [
            "\n"
          ]
        },
        {
          "name": "stdout",
          "output_type": "stream",
          "text": [
            "\n",
            "      Epoch    GPU_mem   box_loss   cls_loss   dfl_loss  Instances       Size\n"
          ]
        },
        {
          "name": "stderr",
          "output_type": "stream",
          "text": [
            "      20/20      2.69G     0.9729     0.5893      1.139         11        640: 100%|██████████| 230/230 [01:09<00:00,  3.30it/s]\n",
            "                 Class     Images  Instances      Box(P          R      mAP50  mAP50-95): 100%|██████████| 5/5 [00:01<00:00,  3.83it/s]"
          ]
        },
        {
          "name": "stdout",
          "output_type": "stream",
          "text": [
            "                   all        145        238      0.898      0.887      0.938      0.642\n"
          ]
        },
        {
          "name": "stderr",
          "output_type": "stream",
          "text": [
            "\n"
          ]
        },
        {
          "name": "stdout",
          "output_type": "stream",
          "text": [
            "\n",
            "20 epochs completed in 0.430 hours.\n",
            "Optimizer stripped from runs/detect/train/weights/last.pt, 6.2MB\n",
            "Optimizer stripped from runs/detect/train/weights/best.pt, 6.2MB\n",
            "\n",
            "Validating runs/detect/train/weights/best.pt...\n",
            "Ultralytics YOLOv8.2.26 🚀 Python-3.10.12 torch-2.3.0+cu121 CUDA:0 (Tesla T4, 15102MiB)\n",
            "Model summary (fused): 168 layers, 3005843 parameters, 0 gradients, 8.1 GFLOPs\n"
          ]
        },
        {
          "name": "stderr",
          "output_type": "stream",
          "text": [
            "                 Class     Images  Instances      Box(P          R      mAP50  mAP50-95): 100%|██████████| 5/5 [00:05<00:00,  1.06s/it]\n"
          ]
        },
        {
          "name": "stdout",
          "output_type": "stream",
          "text": [
            "                   all        145        238      0.931      0.906      0.956      0.645\n",
            "Speed: 0.5ms preprocess, 3.6ms inference, 0.0ms loss, 6.1ms postprocess per image\n",
            "Results saved to \u001b[1mruns/detect/train\u001b[0m\n"
          ]
        },
        {
          "data": {
            "text/plain": [
              "ultralytics.utils.metrics.DetMetrics object with attributes:\n",
              "\n",
              "ap_class_index: array([0])\n",
              "box: ultralytics.utils.metrics.Metric object\n",
              "confusion_matrix: <ultralytics.utils.metrics.ConfusionMatrix object at 0x7f51e99926b0>\n",
              "curves: ['Precision-Recall(B)', 'F1-Confidence(B)', 'Precision-Confidence(B)', 'Recall-Confidence(B)']\n",
              "curves_results: [[array([          0,    0.001001,    0.002002,    0.003003,    0.004004,    0.005005,    0.006006,    0.007007,    0.008008,    0.009009,     0.01001,    0.011011,    0.012012,    0.013013,    0.014014,    0.015015,    0.016016,    0.017017,    0.018018,    0.019019,     0.02002,    0.021021,    0.022022,    0.023023,\n",
              "          0.024024,    0.025025,    0.026026,    0.027027,    0.028028,    0.029029,     0.03003,    0.031031,    0.032032,    0.033033,    0.034034,    0.035035,    0.036036,    0.037037,    0.038038,    0.039039,     0.04004,    0.041041,    0.042042,    0.043043,    0.044044,    0.045045,    0.046046,    0.047047,\n",
              "          0.048048,    0.049049,     0.05005,    0.051051,    0.052052,    0.053053,    0.054054,    0.055055,    0.056056,    0.057057,    0.058058,    0.059059,     0.06006,    0.061061,    0.062062,    0.063063,    0.064064,    0.065065,    0.066066,    0.067067,    0.068068,    0.069069,     0.07007,    0.071071,\n",
              "          0.072072,    0.073073,    0.074074,    0.075075,    0.076076,    0.077077,    0.078078,    0.079079,     0.08008,    0.081081,    0.082082,    0.083083,    0.084084,    0.085085,    0.086086,    0.087087,    0.088088,    0.089089,     0.09009,    0.091091,    0.092092,    0.093093,    0.094094,    0.095095,\n",
              "          0.096096,    0.097097,    0.098098,    0.099099,      0.1001,      0.1011,      0.1021,      0.1031,      0.1041,     0.10511,     0.10611,     0.10711,     0.10811,     0.10911,     0.11011,     0.11111,     0.11211,     0.11311,     0.11411,     0.11512,     0.11612,     0.11712,     0.11812,     0.11912,\n",
              "           0.12012,     0.12112,     0.12212,     0.12312,     0.12412,     0.12513,     0.12613,     0.12713,     0.12813,     0.12913,     0.13013,     0.13113,     0.13213,     0.13313,     0.13413,     0.13514,     0.13614,     0.13714,     0.13814,     0.13914,     0.14014,     0.14114,     0.14214,     0.14314,\n",
              "           0.14414,     0.14515,     0.14615,     0.14715,     0.14815,     0.14915,     0.15015,     0.15115,     0.15215,     0.15315,     0.15415,     0.15516,     0.15616,     0.15716,     0.15816,     0.15916,     0.16016,     0.16116,     0.16216,     0.16316,     0.16416,     0.16517,     0.16617,     0.16717,\n",
              "           0.16817,     0.16917,     0.17017,     0.17117,     0.17217,     0.17317,     0.17417,     0.17518,     0.17618,     0.17718,     0.17818,     0.17918,     0.18018,     0.18118,     0.18218,     0.18318,     0.18418,     0.18519,     0.18619,     0.18719,     0.18819,     0.18919,     0.19019,     0.19119,\n",
              "           0.19219,     0.19319,     0.19419,      0.1952,      0.1962,      0.1972,      0.1982,      0.1992,      0.2002,      0.2012,      0.2022,      0.2032,      0.2042,     0.20521,     0.20621,     0.20721,     0.20821,     0.20921,     0.21021,     0.21121,     0.21221,     0.21321,     0.21421,     0.21522,\n",
              "           0.21622,     0.21722,     0.21822,     0.21922,     0.22022,     0.22122,     0.22222,     0.22322,     0.22422,     0.22523,     0.22623,     0.22723,     0.22823,     0.22923,     0.23023,     0.23123,     0.23223,     0.23323,     0.23423,     0.23524,     0.23624,     0.23724,     0.23824,     0.23924,\n",
              "           0.24024,     0.24124,     0.24224,     0.24324,     0.24424,     0.24525,     0.24625,     0.24725,     0.24825,     0.24925,     0.25025,     0.25125,     0.25225,     0.25325,     0.25425,     0.25526,     0.25626,     0.25726,     0.25826,     0.25926,     0.26026,     0.26126,     0.26226,     0.26326,\n",
              "           0.26426,     0.26527,     0.26627,     0.26727,     0.26827,     0.26927,     0.27027,     0.27127,     0.27227,     0.27327,     0.27427,     0.27528,     0.27628,     0.27728,     0.27828,     0.27928,     0.28028,     0.28128,     0.28228,     0.28328,     0.28428,     0.28529,     0.28629,     0.28729,\n",
              "           0.28829,     0.28929,     0.29029,     0.29129,     0.29229,     0.29329,     0.29429,      0.2953,      0.2963,      0.2973,      0.2983,      0.2993,      0.3003,      0.3013,      0.3023,      0.3033,      0.3043,     0.30531,     0.30631,     0.30731,     0.30831,     0.30931,     0.31031,     0.31131,\n",
              "           0.31231,     0.31331,     0.31431,     0.31532,     0.31632,     0.31732,     0.31832,     0.31932,     0.32032,     0.32132,     0.32232,     0.32332,     0.32432,     0.32533,     0.32633,     0.32733,     0.32833,     0.32933,     0.33033,     0.33133,     0.33233,     0.33333,     0.33433,     0.33534,\n",
              "           0.33634,     0.33734,     0.33834,     0.33934,     0.34034,     0.34134,     0.34234,     0.34334,     0.34434,     0.34535,     0.34635,     0.34735,     0.34835,     0.34935,     0.35035,     0.35135,     0.35235,     0.35335,     0.35435,     0.35536,     0.35636,     0.35736,     0.35836,     0.35936,\n",
              "           0.36036,     0.36136,     0.36236,     0.36336,     0.36436,     0.36537,     0.36637,     0.36737,     0.36837,     0.36937,     0.37037,     0.37137,     0.37237,     0.37337,     0.37437,     0.37538,     0.37638,     0.37738,     0.37838,     0.37938,     0.38038,     0.38138,     0.38238,     0.38338,\n",
              "           0.38438,     0.38539,     0.38639,     0.38739,     0.38839,     0.38939,     0.39039,     0.39139,     0.39239,     0.39339,     0.39439,      0.3954,      0.3964,      0.3974,      0.3984,      0.3994,      0.4004,      0.4014,      0.4024,      0.4034,      0.4044,     0.40541,     0.40641,     0.40741,\n",
              "           0.40841,     0.40941,     0.41041,     0.41141,     0.41241,     0.41341,     0.41441,     0.41542,     0.41642,     0.41742,     0.41842,     0.41942,     0.42042,     0.42142,     0.42242,     0.42342,     0.42442,     0.42543,     0.42643,     0.42743,     0.42843,     0.42943,     0.43043,     0.43143,\n",
              "           0.43243,     0.43343,     0.43443,     0.43544,     0.43644,     0.43744,     0.43844,     0.43944,     0.44044,     0.44144,     0.44244,     0.44344,     0.44444,     0.44545,     0.44645,     0.44745,     0.44845,     0.44945,     0.45045,     0.45145,     0.45245,     0.45345,     0.45445,     0.45546,\n",
              "           0.45646,     0.45746,     0.45846,     0.45946,     0.46046,     0.46146,     0.46246,     0.46346,     0.46446,     0.46547,     0.46647,     0.46747,     0.46847,     0.46947,     0.47047,     0.47147,     0.47247,     0.47347,     0.47447,     0.47548,     0.47648,     0.47748,     0.47848,     0.47948,\n",
              "           0.48048,     0.48148,     0.48248,     0.48348,     0.48448,     0.48549,     0.48649,     0.48749,     0.48849,     0.48949,     0.49049,     0.49149,     0.49249,     0.49349,     0.49449,      0.4955,      0.4965,      0.4975,      0.4985,      0.4995,      0.5005,      0.5015,      0.5025,      0.5035,\n",
              "            0.5045,     0.50551,     0.50651,     0.50751,     0.50851,     0.50951,     0.51051,     0.51151,     0.51251,     0.51351,     0.51451,     0.51552,     0.51652,     0.51752,     0.51852,     0.51952,     0.52052,     0.52152,     0.52252,     0.52352,     0.52452,     0.52553,     0.52653,     0.52753,\n",
              "           0.52853,     0.52953,     0.53053,     0.53153,     0.53253,     0.53353,     0.53453,     0.53554,     0.53654,     0.53754,     0.53854,     0.53954,     0.54054,     0.54154,     0.54254,     0.54354,     0.54454,     0.54555,     0.54655,     0.54755,     0.54855,     0.54955,     0.55055,     0.55155,\n",
              "           0.55255,     0.55355,     0.55455,     0.55556,     0.55656,     0.55756,     0.55856,     0.55956,     0.56056,     0.56156,     0.56256,     0.56356,     0.56456,     0.56557,     0.56657,     0.56757,     0.56857,     0.56957,     0.57057,     0.57157,     0.57257,     0.57357,     0.57457,     0.57558,\n",
              "           0.57658,     0.57758,     0.57858,     0.57958,     0.58058,     0.58158,     0.58258,     0.58358,     0.58458,     0.58559,     0.58659,     0.58759,     0.58859,     0.58959,     0.59059,     0.59159,     0.59259,     0.59359,     0.59459,      0.5956,      0.5966,      0.5976,      0.5986,      0.5996,\n",
              "            0.6006,      0.6016,      0.6026,      0.6036,      0.6046,     0.60561,     0.60661,     0.60761,     0.60861,     0.60961,     0.61061,     0.61161,     0.61261,     0.61361,     0.61461,     0.61562,     0.61662,     0.61762,     0.61862,     0.61962,     0.62062,     0.62162,     0.62262,     0.62362,\n",
              "           0.62462,     0.62563,     0.62663,     0.62763,     0.62863,     0.62963,     0.63063,     0.63163,     0.63263,     0.63363,     0.63463,     0.63564,     0.63664,     0.63764,     0.63864,     0.63964,     0.64064,     0.64164,     0.64264,     0.64364,     0.64464,     0.64565,     0.64665,     0.64765,\n",
              "           0.64865,     0.64965,     0.65065,     0.65165,     0.65265,     0.65365,     0.65465,     0.65566,     0.65666,     0.65766,     0.65866,     0.65966,     0.66066,     0.66166,     0.66266,     0.66366,     0.66466,     0.66567,     0.66667,     0.66767,     0.66867,     0.66967,     0.67067,     0.67167,\n",
              "           0.67267,     0.67367,     0.67467,     0.67568,     0.67668,     0.67768,     0.67868,     0.67968,     0.68068,     0.68168,     0.68268,     0.68368,     0.68468,     0.68569,     0.68669,     0.68769,     0.68869,     0.68969,     0.69069,     0.69169,     0.69269,     0.69369,     0.69469,      0.6957,\n",
              "            0.6967,      0.6977,      0.6987,      0.6997,      0.7007,      0.7017,      0.7027,      0.7037,      0.7047,     0.70571,     0.70671,     0.70771,     0.70871,     0.70971,     0.71071,     0.71171,     0.71271,     0.71371,     0.71471,     0.71572,     0.71672,     0.71772,     0.71872,     0.71972,\n",
              "           0.72072,     0.72172,     0.72272,     0.72372,     0.72472,     0.72573,     0.72673,     0.72773,     0.72873,     0.72973,     0.73073,     0.73173,     0.73273,     0.73373,     0.73473,     0.73574,     0.73674,     0.73774,     0.73874,     0.73974,     0.74074,     0.74174,     0.74274,     0.74374,\n",
              "           0.74474,     0.74575,     0.74675,     0.74775,     0.74875,     0.74975,     0.75075,     0.75175,     0.75275,     0.75375,     0.75475,     0.75576,     0.75676,     0.75776,     0.75876,     0.75976,     0.76076,     0.76176,     0.76276,     0.76376,     0.76476,     0.76577,     0.76677,     0.76777,\n",
              "           0.76877,     0.76977,     0.77077,     0.77177,     0.77277,     0.77377,     0.77477,     0.77578,     0.77678,     0.77778,     0.77878,     0.77978,     0.78078,     0.78178,     0.78278,     0.78378,     0.78478,     0.78579,     0.78679,     0.78779,     0.78879,     0.78979,     0.79079,     0.79179,\n",
              "           0.79279,     0.79379,     0.79479,      0.7958,      0.7968,      0.7978,      0.7988,      0.7998,      0.8008,      0.8018,      0.8028,      0.8038,      0.8048,     0.80581,     0.80681,     0.80781,     0.80881,     0.80981,     0.81081,     0.81181,     0.81281,     0.81381,     0.81481,     0.81582,\n",
              "           0.81682,     0.81782,     0.81882,     0.81982,     0.82082,     0.82182,     0.82282,     0.82382,     0.82482,     0.82583,     0.82683,     0.82783,     0.82883,     0.82983,     0.83083,     0.83183,     0.83283,     0.83383,     0.83483,     0.83584,     0.83684,     0.83784,     0.83884,     0.83984,\n",
              "           0.84084,     0.84184,     0.84284,     0.84384,     0.84484,     0.84585,     0.84685,     0.84785,     0.84885,     0.84985,     0.85085,     0.85185,     0.85285,     0.85385,     0.85485,     0.85586,     0.85686,     0.85786,     0.85886,     0.85986,     0.86086,     0.86186,     0.86286,     0.86386,\n",
              "           0.86486,     0.86587,     0.86687,     0.86787,     0.86887,     0.86987,     0.87087,     0.87187,     0.87287,     0.87387,     0.87487,     0.87588,     0.87688,     0.87788,     0.87888,     0.87988,     0.88088,     0.88188,     0.88288,     0.88388,     0.88488,     0.88589,     0.88689,     0.88789,\n",
              "           0.88889,     0.88989,     0.89089,     0.89189,     0.89289,     0.89389,     0.89489,      0.8959,      0.8969,      0.8979,      0.8989,      0.8999,      0.9009,      0.9019,      0.9029,      0.9039,      0.9049,     0.90591,     0.90691,     0.90791,     0.90891,     0.90991,     0.91091,     0.91191,\n",
              "           0.91291,     0.91391,     0.91491,     0.91592,     0.91692,     0.91792,     0.91892,     0.91992,     0.92092,     0.92192,     0.92292,     0.92392,     0.92492,     0.92593,     0.92693,     0.92793,     0.92893,     0.92993,     0.93093,     0.93193,     0.93293,     0.93393,     0.93493,     0.93594,\n",
              "           0.93694,     0.93794,     0.93894,     0.93994,     0.94094,     0.94194,     0.94294,     0.94394,     0.94494,     0.94595,     0.94695,     0.94795,     0.94895,     0.94995,     0.95095,     0.95195,     0.95295,     0.95395,     0.95495,     0.95596,     0.95696,     0.95796,     0.95896,     0.95996,\n",
              "           0.96096,     0.96196,     0.96296,     0.96396,     0.96496,     0.96597,     0.96697,     0.96797,     0.96897,     0.96997,     0.97097,     0.97197,     0.97297,     0.97397,     0.97497,     0.97598,     0.97698,     0.97798,     0.97898,     0.97998,     0.98098,     0.98198,     0.98298,     0.98398,\n",
              "           0.98498,     0.98599,     0.98699,     0.98799,     0.98899,     0.98999,     0.99099,     0.99199,     0.99299,     0.99399,     0.99499,       0.996,       0.997,       0.998,       0.999,           1]), array([[          1,           1,           1,           1,           1,           1,           1,           1,           1,           1,           1,           1,           1,           1,           1,           1,           1,           1,           1,           1,           1,           1,           1,\n",
              "                  1,           1,           1,           1,           1,           1,           1,           1,           1,           1,           1,           1,           1,           1,           1,           1,           1,           1,           1,           1,           1,           1,           1,\n",
              "                  1,           1,           1,           1,           1,           1,           1,           1,           1,           1,           1,           1,           1,           1,           1,           1,           1,           1,           1,           1,           1,           1,           1,\n",
              "                  1,           1,           1,           1,           1,           1,           1,           1,           1,           1,           1,           1,           1,           1,           1,           1,           1,           1,           1,           1,           1,           1,           1,\n",
              "                  1,           1,           1,           1,           1,           1,           1,           1,           1,           1,           1,           1,           1,           1,           1,           1,           1,           1,           1,           1,           1,           1,           1,\n",
              "                  1,           1,           1,           1,           1,           1,           1,           1,           1,           1,           1,           1,           1,           1,           1,           1,           1,           1,           1,           1,           1,           1,           1,\n",
              "                  1,           1,           1,           1,           1,           1,           1,           1,           1,           1,           1,           1,           1,           1,           1,           1,           1,           1,           1,           1,           1,           1,           1,\n",
              "                  1,           1,           1,           1,           1,           1,           1,           1,           1,           1,           1,           1,           1,           1,           1,           1,           1,           1,           1,           1,           1,           1,           1,\n",
              "                  1,           1,           1,           1,           1,           1,           1,           1,           1,           1,           1,           1,           1,           1,           1,           1,           1,           1,           1,           1,           1,           1,           1,\n",
              "                  1,           1,           1,           1,           1,           1,           1,           1,           1,           1,           1,           1,           1,           1,           1,           1,           1,           1,           1,           1,           1,           1,           1,\n",
              "                  1,           1,           1,           1,           1,           1,           1,           1,           1,           1,           1,           1,           1,           1,           1,           1,           1,           1,           1,           1,           1,           1,           1,\n",
              "                  1,           1,           1,           1,           1,           1,           1,           1,           1,           1,           1,           1,           1,           1,           1,           1,           1,           1,           1,           1,           1,           1,           1,\n",
              "                  1,           1,           1,           1,           1,           1,           1,           1,           1,           1,           1,           1,           1,           1,           1,           1,           1,           1,           1,           1,           1,           1,           1,\n",
              "                  1,           1,           1,           1,           1,           1,           1,           1,           1,           1,           1,           1,           1,           1,           1,           1,           1,           1,           1,           1,           1,           1,           1,\n",
              "                  1,           1,           1,           1,           1,           1,           1,           1,           1,           1,           1,           1,           1,           1,           1,           1,           1,           1,           1,           1,           1,           1,           1,\n",
              "                  1,           1,           1,           1,           1,           1,           1,           1,           1,           1,           1,           1,           1,           1,           1,           1,           1,           1,           1,           1,           1,           1,           1,\n",
              "                  1,           1,           1,           1,           1,           1,           1,           1,           1,           1,           1,           1,           1,           1,           1,           1,           1,           1,           1,           1,           1,           1,           1,\n",
              "                  1,           1,           1,           1,           1,           1,           1,           1,           1,           1,           1,           1,           1,           1,           1,           1,           1,           1,           1,           1,           1,           1,           1,\n",
              "                  1,           1,           1,           1,           1,           1,           1,           1,           1,           1,           1,           1,           1,           1,           1,           1,           1,           1,           1,           1,           1,           1,           1,\n",
              "                  1,           1,           1,           1,           1,           1,           1,           1,           1,           1,           1,           1,           1,           1,           1,           1,           1,           1,           1,           1,           1,           1,           1,\n",
              "                  1,           1,           1,           1,           1,           1,           1,           1,           1,           1,           1,           1,           1,           1,           1,           1,           1,           1,           1,           1,           1,           1,           1,\n",
              "                  1,           1,           1,           1,           1,           1,           1,           1,           1,           1,           1,           1,           1,           1,           1,           1,           1,           1,           1,           1,           1,           1,           1,\n",
              "                  1,           1,           1,           1,           1,           1,           1,           1,           1,           1,           1,           1,           1,           1,           1,     0.99213,     0.99213,     0.99213,     0.99213,     0.99213,     0.99213,     0.99213,     0.99213,\n",
              "            0.98788,     0.98788,     0.98788,     0.98788,     0.98788,     0.98788,     0.98788,     0.98788,     0.98788,     0.98788,     0.98788,     0.98788,     0.98788,     0.98788,     0.98788,     0.98788,     0.98788,     0.98788,     0.98788,     0.98788,     0.98788,     0.98788,     0.98788,\n",
              "            0.98788,     0.98788,     0.98788,     0.98788,     0.98788,     0.98788,     0.98788,     0.98788,     0.98788,     0.98788,     0.98788,     0.98788,     0.98788,     0.98788,     0.98788,     0.98788,     0.98788,     0.98788,     0.98788,     0.98788,     0.98788,     0.98788,     0.98788,\n",
              "            0.98788,     0.98788,     0.98788,     0.98788,     0.98788,     0.98788,     0.98788,     0.98788,     0.98788,     0.98788,     0.98788,     0.98788,     0.98788,     0.98788,     0.98788,     0.98788,     0.98788,     0.98788,     0.98788,     0.98788,     0.98788,     0.98788,     0.98788,\n",
              "            0.98788,     0.98788,     0.98788,     0.98788,     0.98788,     0.98788,     0.98788,     0.98788,     0.98788,     0.98788,     0.98788,     0.98788,     0.98788,     0.98788,     0.98788,     0.98788,     0.98788,     0.98788,     0.98788,     0.98788,     0.98788,     0.98788,     0.98788,\n",
              "            0.98788,     0.98788,     0.98788,     0.98788,     0.98788,     0.98788,     0.98788,     0.98788,     0.98788,     0.98788,     0.98788,     0.98788,     0.98788,     0.98788,     0.98788,     0.98788,     0.98788,     0.98788,     0.98788,     0.98788,     0.98788,     0.98788,     0.98788,\n",
              "            0.98788,     0.98788,     0.98788,     0.98788,     0.98788,     0.98788,     0.98788,     0.98788,     0.98788,     0.98788,     0.98788,     0.98788,     0.98788,     0.98788,     0.98788,     0.98788,     0.98788,     0.98788,     0.98788,     0.98788,     0.98788,     0.98788,     0.98788,\n",
              "            0.98788,     0.98788,     0.98788,     0.98788,     0.98788,     0.98788,     0.98788,     0.98788,     0.98788,     0.98788,     0.98788,     0.98788,     0.98788,     0.98788,     0.98788,     0.98788,     0.98788,     0.98788,     0.98256,     0.98256,     0.98256,     0.98256,     0.98256,\n",
              "            0.98256,     0.98256,     0.98256,     0.98256,     0.98256,     0.98256,     0.98256,     0.98256,     0.98256,     0.98256,     0.98256,     0.98256,     0.98256,     0.98256,     0.98256,     0.98256,     0.98256,     0.98256,     0.98256,     0.98256,     0.97727,     0.97727,     0.97727,\n",
              "            0.97727,     0.97727,     0.97727,     0.97727,     0.97727,     0.97727,     0.97727,     0.97727,     0.97727,     0.97222,     0.97222,     0.97222,     0.97222,     0.97222,     0.97222,     0.97222,     0.97222,     0.97222,     0.97222,     0.97222,     0.97222,     0.97222,     0.96721,\n",
              "            0.96721,     0.96721,     0.96721,     0.96721,     0.96721,     0.96721,     0.96721,     0.96354,     0.96354,     0.96354,     0.96354,     0.96354,     0.96354,     0.96354,     0.96354,     0.96354,     0.96354,     0.96354,     0.96354,     0.96354,     0.96354,     0.96354,     0.96354,\n",
              "            0.96354,     0.96354,     0.96354,     0.96354,     0.96354,     0.96354,     0.96354,     0.96354,     0.96354,     0.96354,     0.96354,     0.96354,     0.96354,     0.96354,     0.96354,     0.96354,     0.96354,     0.96354,     0.95897,     0.95897,     0.95897,     0.95897,     0.95897,\n",
              "            0.95897,     0.95897,     0.95897,     0.95455,     0.95455,     0.95455,     0.95455,     0.95455,     0.95455,     0.95455,     0.95455,     0.95455,      0.9505,      0.9505,      0.9505,      0.9505,      0.9505,      0.9505,      0.9505,      0.9505,      0.9505,      0.9505,      0.9505,\n",
              "             0.9505,      0.9466,      0.9466,      0.9466,      0.9466,      0.9466,      0.9466,      0.9466,      0.9466,      0.9466,      0.9466,      0.9466,      0.9466,      0.9466,     0.94258,     0.94258,     0.94258,     0.94258,     0.94258,     0.94258,     0.94258,     0.94258,     0.93981,\n",
              "            0.93981,     0.93981,     0.93981,     0.93981,     0.93981,     0.93981,     0.93981,     0.93981,     0.93981,     0.93981,     0.93981,     0.93981,     0.93981,     0.93981,     0.93981,     0.93981,     0.93981,     0.93981,     0.93981,     0.93981,     0.93981,     0.93981,     0.93981,\n",
              "            0.93981,     0.93981,     0.93833,     0.93833,     0.93833,     0.93833,     0.93833,     0.93833,     0.93833,     0.93833,     0.93833,     0.93833,     0.93833,     0.93833,     0.93833,     0.93833,     0.93833,     0.93833,     0.93833,     0.93833,     0.93833,     0.93833,     0.93833,\n",
              "            0.93833,     0.93833,     0.93833,     0.93833,     0.93833,     0.93833,     0.93833,     0.93833,     0.93833,     0.93833,     0.93833,     0.93833,     0.93833,     0.93833,     0.93833,     0.93833,     0.93833,     0.93833,     0.93833,     0.93833,     0.93833,     0.93103,     0.93103,\n",
              "            0.93103,     0.93103,     0.93103,     0.93103,     0.93103,     0.93103,     0.93103,     0.93103,     0.93103,     0.93103,     0.90041,     0.90041,     0.90041,     0.90041,     0.88618,     0.88618,     0.88618,     0.88618,     0.88618,     0.87952,     0.87952,     0.87952,     0.87952,\n",
              "            0.87649,     0.87649,     0.87649,     0.87649,     0.82156,     0.82156,     0.82156,     0.82156,     0.81022,     0.81022,     0.81022,     0.81022,     0.78246,     0.78246,     0.78246,     0.78246,     0.78246,     0.76712,     0.76712,     0.76712,     0.76712,        0.75,        0.75,\n",
              "               0.75,        0.75,     0.74342,     0.74342,     0.74342,     0.74342,     0.71924,     0.71924,     0.71924,     0.71924,     0.71924,     0.71924,     0.71924,     0.71924,     0.71924,     0.71787,     0.71787,     0.71787,     0.71787,     0.71077,     0.71077,     0.71077,     0.71077,\n",
              "            0.71077,     0.71077,     0.71077,     0.71077,     0.67638,     0.67638,     0.67638,     0.67638,     0.49364,     0.49364,     0.49364,     0.49364,     0.49364,     0.42011,     0.42011,     0.42011,     0.42011,     0.36265,     0.36265,     0.36265,     0.36265,     0.35171,     0.35171,\n",
              "            0.35171,     0.35171,     0.21371,     0.21371,     0.21371,     0.21371,     0.13898,     0.10424,    0.069492,    0.034746,           0]]), 'Recall', 'Precision'], [array([          0,    0.001001,    0.002002,    0.003003,    0.004004,    0.005005,    0.006006,    0.007007,    0.008008,    0.009009,     0.01001,    0.011011,    0.012012,    0.013013,    0.014014,    0.015015,    0.016016,    0.017017,    0.018018,    0.019019,     0.02002,    0.021021,    0.022022,    0.023023,\n",
              "          0.024024,    0.025025,    0.026026,    0.027027,    0.028028,    0.029029,     0.03003,    0.031031,    0.032032,    0.033033,    0.034034,    0.035035,    0.036036,    0.037037,    0.038038,    0.039039,     0.04004,    0.041041,    0.042042,    0.043043,    0.044044,    0.045045,    0.046046,    0.047047,\n",
              "          0.048048,    0.049049,     0.05005,    0.051051,    0.052052,    0.053053,    0.054054,    0.055055,    0.056056,    0.057057,    0.058058,    0.059059,     0.06006,    0.061061,    0.062062,    0.063063,    0.064064,    0.065065,    0.066066,    0.067067,    0.068068,    0.069069,     0.07007,    0.071071,\n",
              "          0.072072,    0.073073,    0.074074,    0.075075,    0.076076,    0.077077,    0.078078,    0.079079,     0.08008,    0.081081,    0.082082,    0.083083,    0.084084,    0.085085,    0.086086,    0.087087,    0.088088,    0.089089,     0.09009,    0.091091,    0.092092,    0.093093,    0.094094,    0.095095,\n",
              "          0.096096,    0.097097,    0.098098,    0.099099,      0.1001,      0.1011,      0.1021,      0.1031,      0.1041,     0.10511,     0.10611,     0.10711,     0.10811,     0.10911,     0.11011,     0.11111,     0.11211,     0.11311,     0.11411,     0.11512,     0.11612,     0.11712,     0.11812,     0.11912,\n",
              "           0.12012,     0.12112,     0.12212,     0.12312,     0.12412,     0.12513,     0.12613,     0.12713,     0.12813,     0.12913,     0.13013,     0.13113,     0.13213,     0.13313,     0.13413,     0.13514,     0.13614,     0.13714,     0.13814,     0.13914,     0.14014,     0.14114,     0.14214,     0.14314,\n",
              "           0.14414,     0.14515,     0.14615,     0.14715,     0.14815,     0.14915,     0.15015,     0.15115,     0.15215,     0.15315,     0.15415,     0.15516,     0.15616,     0.15716,     0.15816,     0.15916,     0.16016,     0.16116,     0.16216,     0.16316,     0.16416,     0.16517,     0.16617,     0.16717,\n",
              "           0.16817,     0.16917,     0.17017,     0.17117,     0.17217,     0.17317,     0.17417,     0.17518,     0.17618,     0.17718,     0.17818,     0.17918,     0.18018,     0.18118,     0.18218,     0.18318,     0.18418,     0.18519,     0.18619,     0.18719,     0.18819,     0.18919,     0.19019,     0.19119,\n",
              "           0.19219,     0.19319,     0.19419,      0.1952,      0.1962,      0.1972,      0.1982,      0.1992,      0.2002,      0.2012,      0.2022,      0.2032,      0.2042,     0.20521,     0.20621,     0.20721,     0.20821,     0.20921,     0.21021,     0.21121,     0.21221,     0.21321,     0.21421,     0.21522,\n",
              "           0.21622,     0.21722,     0.21822,     0.21922,     0.22022,     0.22122,     0.22222,     0.22322,     0.22422,     0.22523,     0.22623,     0.22723,     0.22823,     0.22923,     0.23023,     0.23123,     0.23223,     0.23323,     0.23423,     0.23524,     0.23624,     0.23724,     0.23824,     0.23924,\n",
              "           0.24024,     0.24124,     0.24224,     0.24324,     0.24424,     0.24525,     0.24625,     0.24725,     0.24825,     0.24925,     0.25025,     0.25125,     0.25225,     0.25325,     0.25425,     0.25526,     0.25626,     0.25726,     0.25826,     0.25926,     0.26026,     0.26126,     0.26226,     0.26326,\n",
              "           0.26426,     0.26527,     0.26627,     0.26727,     0.26827,     0.26927,     0.27027,     0.27127,     0.27227,     0.27327,     0.27427,     0.27528,     0.27628,     0.27728,     0.27828,     0.27928,     0.28028,     0.28128,     0.28228,     0.28328,     0.28428,     0.28529,     0.28629,     0.28729,\n",
              "           0.28829,     0.28929,     0.29029,     0.29129,     0.29229,     0.29329,     0.29429,      0.2953,      0.2963,      0.2973,      0.2983,      0.2993,      0.3003,      0.3013,      0.3023,      0.3033,      0.3043,     0.30531,     0.30631,     0.30731,     0.30831,     0.30931,     0.31031,     0.31131,\n",
              "           0.31231,     0.31331,     0.31431,     0.31532,     0.31632,     0.31732,     0.31832,     0.31932,     0.32032,     0.32132,     0.32232,     0.32332,     0.32432,     0.32533,     0.32633,     0.32733,     0.32833,     0.32933,     0.33033,     0.33133,     0.33233,     0.33333,     0.33433,     0.33534,\n",
              "           0.33634,     0.33734,     0.33834,     0.33934,     0.34034,     0.34134,     0.34234,     0.34334,     0.34434,     0.34535,     0.34635,     0.34735,     0.34835,     0.34935,     0.35035,     0.35135,     0.35235,     0.35335,     0.35435,     0.35536,     0.35636,     0.35736,     0.35836,     0.35936,\n",
              "           0.36036,     0.36136,     0.36236,     0.36336,     0.36436,     0.36537,     0.36637,     0.36737,     0.36837,     0.36937,     0.37037,     0.37137,     0.37237,     0.37337,     0.37437,     0.37538,     0.37638,     0.37738,     0.37838,     0.37938,     0.38038,     0.38138,     0.38238,     0.38338,\n",
              "           0.38438,     0.38539,     0.38639,     0.38739,     0.38839,     0.38939,     0.39039,     0.39139,     0.39239,     0.39339,     0.39439,      0.3954,      0.3964,      0.3974,      0.3984,      0.3994,      0.4004,      0.4014,      0.4024,      0.4034,      0.4044,     0.40541,     0.40641,     0.40741,\n",
              "           0.40841,     0.40941,     0.41041,     0.41141,     0.41241,     0.41341,     0.41441,     0.41542,     0.41642,     0.41742,     0.41842,     0.41942,     0.42042,     0.42142,     0.42242,     0.42342,     0.42442,     0.42543,     0.42643,     0.42743,     0.42843,     0.42943,     0.43043,     0.43143,\n",
              "           0.43243,     0.43343,     0.43443,     0.43544,     0.43644,     0.43744,     0.43844,     0.43944,     0.44044,     0.44144,     0.44244,     0.44344,     0.44444,     0.44545,     0.44645,     0.44745,     0.44845,     0.44945,     0.45045,     0.45145,     0.45245,     0.45345,     0.45445,     0.45546,\n",
              "           0.45646,     0.45746,     0.45846,     0.45946,     0.46046,     0.46146,     0.46246,     0.46346,     0.46446,     0.46547,     0.46647,     0.46747,     0.46847,     0.46947,     0.47047,     0.47147,     0.47247,     0.47347,     0.47447,     0.47548,     0.47648,     0.47748,     0.47848,     0.47948,\n",
              "           0.48048,     0.48148,     0.48248,     0.48348,     0.48448,     0.48549,     0.48649,     0.48749,     0.48849,     0.48949,     0.49049,     0.49149,     0.49249,     0.49349,     0.49449,      0.4955,      0.4965,      0.4975,      0.4985,      0.4995,      0.5005,      0.5015,      0.5025,      0.5035,\n",
              "            0.5045,     0.50551,     0.50651,     0.50751,     0.50851,     0.50951,     0.51051,     0.51151,     0.51251,     0.51351,     0.51451,     0.51552,     0.51652,     0.51752,     0.51852,     0.51952,     0.52052,     0.52152,     0.52252,     0.52352,     0.52452,     0.52553,     0.52653,     0.52753,\n",
              "           0.52853,     0.52953,     0.53053,     0.53153,     0.53253,     0.53353,     0.53453,     0.53554,     0.53654,     0.53754,     0.53854,     0.53954,     0.54054,     0.54154,     0.54254,     0.54354,     0.54454,     0.54555,     0.54655,     0.54755,     0.54855,     0.54955,     0.55055,     0.55155,\n",
              "           0.55255,     0.55355,     0.55455,     0.55556,     0.55656,     0.55756,     0.55856,     0.55956,     0.56056,     0.56156,     0.56256,     0.56356,     0.56456,     0.56557,     0.56657,     0.56757,     0.56857,     0.56957,     0.57057,     0.57157,     0.57257,     0.57357,     0.57457,     0.57558,\n",
              "           0.57658,     0.57758,     0.57858,     0.57958,     0.58058,     0.58158,     0.58258,     0.58358,     0.58458,     0.58559,     0.58659,     0.58759,     0.58859,     0.58959,     0.59059,     0.59159,     0.59259,     0.59359,     0.59459,      0.5956,      0.5966,      0.5976,      0.5986,      0.5996,\n",
              "            0.6006,      0.6016,      0.6026,      0.6036,      0.6046,     0.60561,     0.60661,     0.60761,     0.60861,     0.60961,     0.61061,     0.61161,     0.61261,     0.61361,     0.61461,     0.61562,     0.61662,     0.61762,     0.61862,     0.61962,     0.62062,     0.62162,     0.62262,     0.62362,\n",
              "           0.62462,     0.62563,     0.62663,     0.62763,     0.62863,     0.62963,     0.63063,     0.63163,     0.63263,     0.63363,     0.63463,     0.63564,     0.63664,     0.63764,     0.63864,     0.63964,     0.64064,     0.64164,     0.64264,     0.64364,     0.64464,     0.64565,     0.64665,     0.64765,\n",
              "           0.64865,     0.64965,     0.65065,     0.65165,     0.65265,     0.65365,     0.65465,     0.65566,     0.65666,     0.65766,     0.65866,     0.65966,     0.66066,     0.66166,     0.66266,     0.66366,     0.66466,     0.66567,     0.66667,     0.66767,     0.66867,     0.66967,     0.67067,     0.67167,\n",
              "           0.67267,     0.67367,     0.67467,     0.67568,     0.67668,     0.67768,     0.67868,     0.67968,     0.68068,     0.68168,     0.68268,     0.68368,     0.68468,     0.68569,     0.68669,     0.68769,     0.68869,     0.68969,     0.69069,     0.69169,     0.69269,     0.69369,     0.69469,      0.6957,\n",
              "            0.6967,      0.6977,      0.6987,      0.6997,      0.7007,      0.7017,      0.7027,      0.7037,      0.7047,     0.70571,     0.70671,     0.70771,     0.70871,     0.70971,     0.71071,     0.71171,     0.71271,     0.71371,     0.71471,     0.71572,     0.71672,     0.71772,     0.71872,     0.71972,\n",
              "           0.72072,     0.72172,     0.72272,     0.72372,     0.72472,     0.72573,     0.72673,     0.72773,     0.72873,     0.72973,     0.73073,     0.73173,     0.73273,     0.73373,     0.73473,     0.73574,     0.73674,     0.73774,     0.73874,     0.73974,     0.74074,     0.74174,     0.74274,     0.74374,\n",
              "           0.74474,     0.74575,     0.74675,     0.74775,     0.74875,     0.74975,     0.75075,     0.75175,     0.75275,     0.75375,     0.75475,     0.75576,     0.75676,     0.75776,     0.75876,     0.75976,     0.76076,     0.76176,     0.76276,     0.76376,     0.76476,     0.76577,     0.76677,     0.76777,\n",
              "           0.76877,     0.76977,     0.77077,     0.77177,     0.77277,     0.77377,     0.77477,     0.77578,     0.77678,     0.77778,     0.77878,     0.77978,     0.78078,     0.78178,     0.78278,     0.78378,     0.78478,     0.78579,     0.78679,     0.78779,     0.78879,     0.78979,     0.79079,     0.79179,\n",
              "           0.79279,     0.79379,     0.79479,      0.7958,      0.7968,      0.7978,      0.7988,      0.7998,      0.8008,      0.8018,      0.8028,      0.8038,      0.8048,     0.80581,     0.80681,     0.80781,     0.80881,     0.80981,     0.81081,     0.81181,     0.81281,     0.81381,     0.81481,     0.81582,\n",
              "           0.81682,     0.81782,     0.81882,     0.81982,     0.82082,     0.82182,     0.82282,     0.82382,     0.82482,     0.82583,     0.82683,     0.82783,     0.82883,     0.82983,     0.83083,     0.83183,     0.83283,     0.83383,     0.83483,     0.83584,     0.83684,     0.83784,     0.83884,     0.83984,\n",
              "           0.84084,     0.84184,     0.84284,     0.84384,     0.84484,     0.84585,     0.84685,     0.84785,     0.84885,     0.84985,     0.85085,     0.85185,     0.85285,     0.85385,     0.85485,     0.85586,     0.85686,     0.85786,     0.85886,     0.85986,     0.86086,     0.86186,     0.86286,     0.86386,\n",
              "           0.86486,     0.86587,     0.86687,     0.86787,     0.86887,     0.86987,     0.87087,     0.87187,     0.87287,     0.87387,     0.87487,     0.87588,     0.87688,     0.87788,     0.87888,     0.87988,     0.88088,     0.88188,     0.88288,     0.88388,     0.88488,     0.88589,     0.88689,     0.88789,\n",
              "           0.88889,     0.88989,     0.89089,     0.89189,     0.89289,     0.89389,     0.89489,      0.8959,      0.8969,      0.8979,      0.8989,      0.8999,      0.9009,      0.9019,      0.9029,      0.9039,      0.9049,     0.90591,     0.90691,     0.90791,     0.90891,     0.90991,     0.91091,     0.91191,\n",
              "           0.91291,     0.91391,     0.91491,     0.91592,     0.91692,     0.91792,     0.91892,     0.91992,     0.92092,     0.92192,     0.92292,     0.92392,     0.92492,     0.92593,     0.92693,     0.92793,     0.92893,     0.92993,     0.93093,     0.93193,     0.93293,     0.93393,     0.93493,     0.93594,\n",
              "           0.93694,     0.93794,     0.93894,     0.93994,     0.94094,     0.94194,     0.94294,     0.94394,     0.94494,     0.94595,     0.94695,     0.94795,     0.94895,     0.94995,     0.95095,     0.95195,     0.95295,     0.95395,     0.95495,     0.95596,     0.95696,     0.95796,     0.95896,     0.95996,\n",
              "           0.96096,     0.96196,     0.96296,     0.96396,     0.96496,     0.96597,     0.96697,     0.96797,     0.96897,     0.96997,     0.97097,     0.97197,     0.97297,     0.97397,     0.97497,     0.97598,     0.97698,     0.97798,     0.97898,     0.97998,     0.98098,     0.98198,     0.98298,     0.98398,\n",
              "           0.98498,     0.98599,     0.98699,     0.98799,     0.98899,     0.98999,     0.99099,     0.99199,     0.99299,     0.99399,     0.99499,       0.996,       0.997,       0.998,       0.999,           1]), array([[    0.25443,     0.25443,      0.3447,     0.40065,     0.43972,     0.45968,     0.48167,     0.50311,     0.51533,      0.5265,     0.53855,     0.54771,      0.5595,     0.57164,     0.58177,     0.58913,     0.60005,     0.61324,     0.61935,     0.62783,     0.63836,     0.64215,     0.64807,\n",
              "            0.65265,      0.6565,     0.65897,     0.66711,     0.66899,     0.67385,     0.68167,     0.68864,     0.69567,     0.69908,     0.70628,     0.71142,     0.71434,     0.71639,     0.72045,     0.72224,      0.7233,     0.72712,     0.73005,     0.73502,     0.73663,     0.73734,     0.74105,\n",
              "            0.74334,     0.74743,      0.7497,     0.75072,     0.75238,     0.75342,     0.75396,     0.75477,     0.75856,     0.75976,     0.76051,     0.76501,     0.76798,     0.76942,      0.7705,     0.77239,      0.7734,     0.77377,     0.77414,     0.77451,     0.77638,     0.77705,     0.77802,\n",
              "            0.77887,     0.77952,     0.78261,     0.78317,     0.78372,     0.78493,      0.7858,     0.78665,     0.78764,     0.79183,     0.79321,     0.79352,     0.79383,     0.79414,     0.79445,     0.79688,     0.79669,     0.79713,     0.79757,      0.7981,     0.79897,     0.80024,     0.80111,\n",
              "            0.80171,     0.80406,      0.8078,     0.80885,      0.8096,     0.81024,     0.81205,     0.81252,       0.813,      0.8136,     0.81462,     0.81545,     0.81624,     0.81736,     0.81799,      0.8184,     0.81881,     0.81979,     0.82007,     0.81939,     0.81872,     0.81673,     0.81777,\n",
              "            0.81923,     0.82107,     0.82155,     0.82203,     0.82147,     0.82042,     0.82069,     0.81914,     0.81828,     0.81743,     0.81991,     0.82049,     0.82075,     0.82101,     0.82127,     0.82153,     0.82179,     0.82261,     0.82354,     0.82466,     0.82538,     0.82603,     0.82694,\n",
              "            0.82956,     0.83061,     0.83204,      0.8337,     0.83277,     0.83184,     0.83383,     0.83489,     0.83567,     0.83443,     0.83751,     0.84085,      0.8431,     0.84473,     0.84317,     0.84355,     0.84394,     0.84432,     0.84471,     0.84524,     0.84576,     0.84629,     0.84657,\n",
              "            0.84684,     0.84712,     0.84739,     0.84767,     0.84824,     0.84979,      0.8503,     0.85081,     0.85135,     0.85193,     0.85251,     0.85189,      0.8508,     0.85191,     0.85264,     0.85322,     0.85381,      0.8543,     0.85478,     0.85526,     0.85578,     0.85635,     0.85691,\n",
              "            0.85875,     0.86029,     0.86095,      0.8615,     0.86205,     0.86261,     0.86319,     0.86376,     0.86444,     0.86513,     0.86561,     0.86586,     0.86611,     0.86636,      0.8666,     0.86685,      0.8671,     0.86694,     0.86655,     0.86617,     0.86578,     0.86539,     0.86501,\n",
              "            0.86751,     0.86839,     0.86863,     0.86886,      0.8691,     0.86934,     0.86958,     0.86981,     0.87005,     0.87163,     0.87167,     0.87153,     0.87139,     0.87125,     0.87111,     0.87097,     0.87083,     0.87069,     0.87055,     0.87041,     0.87027,     0.87013,     0.86999,\n",
              "            0.86985,     0.86971,     0.86957,     0.86985,     0.87016,     0.87047,     0.87077,     0.87108,     0.87138,     0.87169,     0.87199,     0.87229,     0.87259,     0.87289,      0.8731,     0.87325,      0.8734,     0.87355,      0.8737,     0.87385,     0.87399,     0.87414,     0.87429,\n",
              "            0.87444,     0.87459,     0.87473,     0.87528,     0.87587,     0.87647,     0.87707,     0.87766,      0.8783,     0.88004,     0.88085,     0.88165,      0.8828,     0.88359,     0.88373,     0.88388,     0.88402,     0.88416,     0.88431,     0.88445,     0.88459,     0.88473,     0.88488,\n",
              "            0.88502,     0.88516,     0.88531,     0.88568,     0.88607,     0.88645,     0.88684,     0.88896,     0.88919,     0.88941,     0.88963,     0.88986,     0.89008,      0.8903,     0.89053,     0.89284,     0.89408,     0.89467,     0.89511,     0.89554,     0.89598,     0.89821,     0.89859,\n",
              "            0.89896,     0.89934,     0.89972,     0.89907,     0.89814,     0.89758,     0.89771,     0.89783,     0.89795,     0.89807,     0.89819,     0.89832,     0.89844,     0.89856,     0.89868,      0.8988,     0.89892,     0.89905,     0.89917,     0.89929,     0.89937,     0.89929,     0.89922,\n",
              "            0.89914,     0.89907,       0.899,     0.89892,     0.89885,     0.89877,      0.8987,     0.89863,     0.89855,     0.89848,      0.8984,     0.89833,     0.89825,     0.89818,     0.89811,     0.89803,     0.89796,     0.89788,     0.89781,     0.89773,     0.89766,     0.89758,     0.89751,\n",
              "            0.89744,     0.89736,     0.89729,     0.89721,     0.89714,     0.89722,     0.89735,     0.89748,     0.89761,     0.89774,     0.89787,       0.898,     0.89813,     0.89826,     0.89839,     0.89852,     0.89866,     0.89879,     0.89892,     0.89935,     0.89998,     0.90062,     0.89875,\n",
              "            0.89876,     0.89899,     0.89921,     0.89944,     0.89966,     0.89989,     0.90011,     0.90033,     0.90068,     0.90108,     0.90148,     0.90189,     0.90229,     0.90242,     0.90255,     0.90267,      0.9028,     0.90293,     0.90306,     0.90319,     0.90332,     0.90345,     0.90357,\n",
              "             0.9037,     0.90383,     0.90396,     0.90409,     0.90441,     0.90505,      0.9057,     0.90599,     0.90585,     0.90571,     0.90556,     0.90542,     0.90528,     0.90514,       0.905,     0.90485,     0.90471,     0.90457,     0.90443,     0.90429,     0.90414,       0.904,     0.90386,\n",
              "            0.90388,     0.90422,     0.90456,      0.9049,     0.90524,     0.90557,     0.90577,     0.90593,     0.90608,     0.90623,     0.90639,     0.90654,     0.90669,     0.90685,       0.907,     0.90715,      0.9073,     0.90746,     0.90772,     0.90824,     0.90877,     0.90929,      0.9099,\n",
              "            0.91055,     0.91121,     0.91281,     0.91406,     0.91505,      0.9154,     0.91558,     0.91576,     0.91594,     0.91612,      0.9163,     0.91648,     0.91667,     0.91685,     0.91703,     0.91721,     0.91747,     0.91773,     0.91799,     0.91825,      0.9185,     0.91876,     0.91902,\n",
              "            0.91905,     0.91885,     0.91866,     0.91846,     0.91826,     0.91807,     0.91787,     0.91767,     0.91748,     0.91728,     0.91708,     0.91689,     0.91653,     0.91614,     0.91574,     0.91535,     0.91495,     0.91455,     0.91229,     0.91237,     0.91253,      0.9127,     0.91287,\n",
              "            0.91304,      0.9132,     0.91337,     0.91354,     0.91371,     0.91387,     0.91404,     0.91434,     0.91501,     0.91568,     0.91597,     0.91549,     0.91501,     0.91454,     0.91406,     0.91271,     0.91106,     0.91026,     0.90945,     0.90898,     0.90878,     0.90858,     0.90837,\n",
              "            0.90817,     0.90797,     0.90777,     0.90757,     0.90736,     0.90716,     0.90696,     0.90676,     0.90467,     0.89983,     0.89932,     0.89905,     0.89877,      0.8985,     0.89822,     0.89795,     0.89767,      0.8974,     0.89712,     0.89676,     0.89641,     0.89605,      0.8957,\n",
              "            0.89535,     0.89499,      0.8946,      0.8941,      0.8936,      0.8931,     0.89261,     0.89258,     0.89325,     0.89392,     0.89153,     0.89091,     0.89028,     0.88965,     0.88922,     0.88894,     0.88866,     0.88838,      0.8881,     0.88782,     0.88754,     0.88726,     0.88698,\n",
              "            0.88642,     0.88578,     0.88515,     0.88451,      0.8841,      0.8837,     0.88331,     0.88292,     0.88253,     0.88214,     0.88126,     0.87998,     0.87957,     0.87973,      0.8799,     0.88007,     0.88024,     0.88041,     0.88057,     0.88074,     0.88091,     0.88108,     0.88125,\n",
              "            0.88141,     0.87816,      0.8773,     0.87643,     0.87836,      0.8771,     0.87582,     0.87507,     0.87433,     0.87358,     0.87276,     0.87189,     0.87101,     0.87089,     0.86662,     0.86529,     0.86656,     0.86591,     0.86458,     0.86347,     0.86357,     0.86338,     0.86319,\n",
              "              0.863,     0.86281,     0.86261,     0.86242,     0.86223,     0.86203,     0.86184,     0.86165,     0.86146,     0.86126,     0.86092,     0.86002,     0.85912,     0.85855,     0.85882,     0.85909,     0.85937,     0.85964,     0.85991,     0.86018,     0.86046,     0.85915,     0.85777,\n",
              "            0.85512,      0.8547,     0.85428,     0.85386,     0.85343,     0.85301,     0.85259,     0.85182,      0.8509,     0.84998,     0.84834,     0.84684,     0.84615,     0.84545,     0.84475,     0.84419,     0.84382,     0.84344,     0.84307,      0.8427,     0.84232,     0.84195,     0.83923,\n",
              "            0.83916,      0.8377,     0.83707,     0.83644,     0.83581,      0.8354,     0.83571,     0.83603,     0.83634,     0.83666,     0.83697,     0.83729,     0.83477,     0.83348,     0.83233,     0.83104,      0.8296,     0.82655,     0.82241,     0.82272,     0.82304,     0.82336,     0.82367,\n",
              "            0.82399,      0.8243,     0.81937,     0.81774,     0.81655,     0.81536,     0.81416,     0.81296,     0.81237,     0.81187,     0.81137,     0.81087,     0.81037,     0.80986,       0.809,     0.80814,     0.80727,     0.80755,     0.80858,     0.80518,     0.80396,     0.80273,     0.80151,\n",
              "            0.80028,     0.79651,      0.7959,     0.79528,     0.79466,     0.79404,     0.78813,     0.78499,     0.78382,     0.78276,     0.78167,     0.77547,     0.77456,     0.77364,     0.77272,     0.76561,     0.76235,     0.75623,     0.75491,     0.75358,     0.75225,     0.75092,     0.74604,\n",
              "             0.7438,     0.74155,     0.73886,     0.72734,      0.7252,     0.72346,     0.71933,     0.71792,     0.71656,     0.71605,     0.71555,     0.71505,     0.71454,     0.71404,     0.71353,     0.71276,     0.71099,     0.70947,     0.70868,     0.70789,      0.7071,      0.7063,     0.70308,\n",
              "            0.70109,     0.69929,     0.69576,      0.6933,     0.69117,     0.68934,     0.68906,     0.69003,     0.68997,     0.68923,     0.68849,     0.68776,     0.68702,     0.68502,     0.68337,     0.68401,     0.68466,     0.68425,     0.68176,     0.68051,     0.67943,     0.67836,      0.6734,\n",
              "            0.67188,     0.66652,     0.66087,     0.65854,     0.65743,     0.65632,     0.65523,     0.65426,     0.65328,      0.6523,     0.65144,     0.65095,     0.65046,     0.64997,     0.64948,     0.64899,      0.6485,     0.64801,     0.64704,     0.64547,     0.64388,     0.64124,     0.63962,\n",
              "            0.63889,     0.63816,     0.63744,     0.63671,     0.63584,     0.63423,     0.63262,     0.63145,     0.63044,     0.62943,     0.62842,     0.62601,      0.6233,     0.62057,     0.61289,     0.61071,     0.60905,     0.60774,     0.60681,     0.60588,     0.60495,     0.59508,     0.58913,\n",
              "            0.58573,     0.58285,     0.57997,     0.57604,     0.57273,     0.56825,     0.56108,      0.5581,      0.5561,      0.5543,     0.55232,     0.55006,     0.54747,     0.54443,     0.53091,     0.51689,     0.51642,     0.51595,     0.51547,       0.515,     0.51452,     0.51405,     0.51357,\n",
              "            0.51309,     0.51262,     0.50657,     0.50291,     0.50211,      0.5013,      0.5005,     0.49969,     0.49888,     0.49631,     0.49217,      0.4889,     0.48282,     0.48034,     0.47324,     0.47123,     0.46886,     0.46438,     0.46346,     0.46254,     0.46161,     0.46068,     0.45975,\n",
              "             0.4569,     0.44789,     0.44092,     0.43711,     0.43448,     0.42277,     0.42158,     0.42039,     0.41919,     0.41311,     0.40686,     0.40467,     0.40217,     0.39599,      0.3859,     0.38503,     0.38417,      0.3833,     0.38244,     0.38157,     0.37932,     0.36626,     0.35764,\n",
              "            0.35473,      0.3484,     0.33657,      0.3213,     0.31239,     0.29394,     0.28356,     0.26257,     0.25823,     0.24312,     0.23868,     0.22984,     0.22533,     0.22203,      0.2193,     0.21392,     0.20706,     0.19973,     0.19322,     0.18079,     0.17451,     0.16971,     0.16489,\n",
              "            0.15183,     0.14102,     0.13335,     0.12587,     0.12082,     0.11057,     0.10285,    0.095733,    0.093499,     0.09126,    0.089016,    0.082789,    0.077747,    0.073761,    0.060345,    0.056418,    0.055513,    0.054608,    0.053702,    0.052795,    0.051888,    0.050979,     0.05007,\n",
              "           0.048996,    0.041042,    0.038678,    0.036308,    0.033933,    0.024815,    0.024255,    0.023695,    0.023134,    0.022572,    0.022011,    0.021449,    0.020887,    0.020324,    0.019762,    0.019199,    0.018635,    0.018071,    0.017507,    0.016943,           0,           0,           0,\n",
              "                  0,           0,           0,           0,           0,           0,           0,           0,           0,           0,           0,           0,           0,           0,           0,           0,           0,           0,           0,           0,           0,           0,           0,\n",
              "                  0,           0,           0,           0,           0,           0,           0,           0,           0,           0,           0,           0,           0,           0,           0,           0,           0,           0,           0,           0,           0,           0,           0,\n",
              "                  0,           0,           0,           0,           0,           0,           0,           0,           0,           0,           0]]), 'Confidence', 'F1'], [array([          0,    0.001001,    0.002002,    0.003003,    0.004004,    0.005005,    0.006006,    0.007007,    0.008008,    0.009009,     0.01001,    0.011011,    0.012012,    0.013013,    0.014014,    0.015015,    0.016016,    0.017017,    0.018018,    0.019019,     0.02002,    0.021021,    0.022022,    0.023023,\n",
              "          0.024024,    0.025025,    0.026026,    0.027027,    0.028028,    0.029029,     0.03003,    0.031031,    0.032032,    0.033033,    0.034034,    0.035035,    0.036036,    0.037037,    0.038038,    0.039039,     0.04004,    0.041041,    0.042042,    0.043043,    0.044044,    0.045045,    0.046046,    0.047047,\n",
              "          0.048048,    0.049049,     0.05005,    0.051051,    0.052052,    0.053053,    0.054054,    0.055055,    0.056056,    0.057057,    0.058058,    0.059059,     0.06006,    0.061061,    0.062062,    0.063063,    0.064064,    0.065065,    0.066066,    0.067067,    0.068068,    0.069069,     0.07007,    0.071071,\n",
              "          0.072072,    0.073073,    0.074074,    0.075075,    0.076076,    0.077077,    0.078078,    0.079079,     0.08008,    0.081081,    0.082082,    0.083083,    0.084084,    0.085085,    0.086086,    0.087087,    0.088088,    0.089089,     0.09009,    0.091091,    0.092092,    0.093093,    0.094094,    0.095095,\n",
              "          0.096096,    0.097097,    0.098098,    0.099099,      0.1001,      0.1011,      0.1021,      0.1031,      0.1041,     0.10511,     0.10611,     0.10711,     0.10811,     0.10911,     0.11011,     0.11111,     0.11211,     0.11311,     0.11411,     0.11512,     0.11612,     0.11712,     0.11812,     0.11912,\n",
              "           0.12012,     0.12112,     0.12212,     0.12312,     0.12412,     0.12513,     0.12613,     0.12713,     0.12813,     0.12913,     0.13013,     0.13113,     0.13213,     0.13313,     0.13413,     0.13514,     0.13614,     0.13714,     0.13814,     0.13914,     0.14014,     0.14114,     0.14214,     0.14314,\n",
              "           0.14414,     0.14515,     0.14615,     0.14715,     0.14815,     0.14915,     0.15015,     0.15115,     0.15215,     0.15315,     0.15415,     0.15516,     0.15616,     0.15716,     0.15816,     0.15916,     0.16016,     0.16116,     0.16216,     0.16316,     0.16416,     0.16517,     0.16617,     0.16717,\n",
              "           0.16817,     0.16917,     0.17017,     0.17117,     0.17217,     0.17317,     0.17417,     0.17518,     0.17618,     0.17718,     0.17818,     0.17918,     0.18018,     0.18118,     0.18218,     0.18318,     0.18418,     0.18519,     0.18619,     0.18719,     0.18819,     0.18919,     0.19019,     0.19119,\n",
              "           0.19219,     0.19319,     0.19419,      0.1952,      0.1962,      0.1972,      0.1982,      0.1992,      0.2002,      0.2012,      0.2022,      0.2032,      0.2042,     0.20521,     0.20621,     0.20721,     0.20821,     0.20921,     0.21021,     0.21121,     0.21221,     0.21321,     0.21421,     0.21522,\n",
              "           0.21622,     0.21722,     0.21822,     0.21922,     0.22022,     0.22122,     0.22222,     0.22322,     0.22422,     0.22523,     0.22623,     0.22723,     0.22823,     0.22923,     0.23023,     0.23123,     0.23223,     0.23323,     0.23423,     0.23524,     0.23624,     0.23724,     0.23824,     0.23924,\n",
              "           0.24024,     0.24124,     0.24224,     0.24324,     0.24424,     0.24525,     0.24625,     0.24725,     0.24825,     0.24925,     0.25025,     0.25125,     0.25225,     0.25325,     0.25425,     0.25526,     0.25626,     0.25726,     0.25826,     0.25926,     0.26026,     0.26126,     0.26226,     0.26326,\n",
              "           0.26426,     0.26527,     0.26627,     0.26727,     0.26827,     0.26927,     0.27027,     0.27127,     0.27227,     0.27327,     0.27427,     0.27528,     0.27628,     0.27728,     0.27828,     0.27928,     0.28028,     0.28128,     0.28228,     0.28328,     0.28428,     0.28529,     0.28629,     0.28729,\n",
              "           0.28829,     0.28929,     0.29029,     0.29129,     0.29229,     0.29329,     0.29429,      0.2953,      0.2963,      0.2973,      0.2983,      0.2993,      0.3003,      0.3013,      0.3023,      0.3033,      0.3043,     0.30531,     0.30631,     0.30731,     0.30831,     0.30931,     0.31031,     0.31131,\n",
              "           0.31231,     0.31331,     0.31431,     0.31532,     0.31632,     0.31732,     0.31832,     0.31932,     0.32032,     0.32132,     0.32232,     0.32332,     0.32432,     0.32533,     0.32633,     0.32733,     0.32833,     0.32933,     0.33033,     0.33133,     0.33233,     0.33333,     0.33433,     0.33534,\n",
              "           0.33634,     0.33734,     0.33834,     0.33934,     0.34034,     0.34134,     0.34234,     0.34334,     0.34434,     0.34535,     0.34635,     0.34735,     0.34835,     0.34935,     0.35035,     0.35135,     0.35235,     0.35335,     0.35435,     0.35536,     0.35636,     0.35736,     0.35836,     0.35936,\n",
              "           0.36036,     0.36136,     0.36236,     0.36336,     0.36436,     0.36537,     0.36637,     0.36737,     0.36837,     0.36937,     0.37037,     0.37137,     0.37237,     0.37337,     0.37437,     0.37538,     0.37638,     0.37738,     0.37838,     0.37938,     0.38038,     0.38138,     0.38238,     0.38338,\n",
              "           0.38438,     0.38539,     0.38639,     0.38739,     0.38839,     0.38939,     0.39039,     0.39139,     0.39239,     0.39339,     0.39439,      0.3954,      0.3964,      0.3974,      0.3984,      0.3994,      0.4004,      0.4014,      0.4024,      0.4034,      0.4044,     0.40541,     0.40641,     0.40741,\n",
              "           0.40841,     0.40941,     0.41041,     0.41141,     0.41241,     0.41341,     0.41441,     0.41542,     0.41642,     0.41742,     0.41842,     0.41942,     0.42042,     0.42142,     0.42242,     0.42342,     0.42442,     0.42543,     0.42643,     0.42743,     0.42843,     0.42943,     0.43043,     0.43143,\n",
              "           0.43243,     0.43343,     0.43443,     0.43544,     0.43644,     0.43744,     0.43844,     0.43944,     0.44044,     0.44144,     0.44244,     0.44344,     0.44444,     0.44545,     0.44645,     0.44745,     0.44845,     0.44945,     0.45045,     0.45145,     0.45245,     0.45345,     0.45445,     0.45546,\n",
              "           0.45646,     0.45746,     0.45846,     0.45946,     0.46046,     0.46146,     0.46246,     0.46346,     0.46446,     0.46547,     0.46647,     0.46747,     0.46847,     0.46947,     0.47047,     0.47147,     0.47247,     0.47347,     0.47447,     0.47548,     0.47648,     0.47748,     0.47848,     0.47948,\n",
              "           0.48048,     0.48148,     0.48248,     0.48348,     0.48448,     0.48549,     0.48649,     0.48749,     0.48849,     0.48949,     0.49049,     0.49149,     0.49249,     0.49349,     0.49449,      0.4955,      0.4965,      0.4975,      0.4985,      0.4995,      0.5005,      0.5015,      0.5025,      0.5035,\n",
              "            0.5045,     0.50551,     0.50651,     0.50751,     0.50851,     0.50951,     0.51051,     0.51151,     0.51251,     0.51351,     0.51451,     0.51552,     0.51652,     0.51752,     0.51852,     0.51952,     0.52052,     0.52152,     0.52252,     0.52352,     0.52452,     0.52553,     0.52653,     0.52753,\n",
              "           0.52853,     0.52953,     0.53053,     0.53153,     0.53253,     0.53353,     0.53453,     0.53554,     0.53654,     0.53754,     0.53854,     0.53954,     0.54054,     0.54154,     0.54254,     0.54354,     0.54454,     0.54555,     0.54655,     0.54755,     0.54855,     0.54955,     0.55055,     0.55155,\n",
              "           0.55255,     0.55355,     0.55455,     0.55556,     0.55656,     0.55756,     0.55856,     0.55956,     0.56056,     0.56156,     0.56256,     0.56356,     0.56456,     0.56557,     0.56657,     0.56757,     0.56857,     0.56957,     0.57057,     0.57157,     0.57257,     0.57357,     0.57457,     0.57558,\n",
              "           0.57658,     0.57758,     0.57858,     0.57958,     0.58058,     0.58158,     0.58258,     0.58358,     0.58458,     0.58559,     0.58659,     0.58759,     0.58859,     0.58959,     0.59059,     0.59159,     0.59259,     0.59359,     0.59459,      0.5956,      0.5966,      0.5976,      0.5986,      0.5996,\n",
              "            0.6006,      0.6016,      0.6026,      0.6036,      0.6046,     0.60561,     0.60661,     0.60761,     0.60861,     0.60961,     0.61061,     0.61161,     0.61261,     0.61361,     0.61461,     0.61562,     0.61662,     0.61762,     0.61862,     0.61962,     0.62062,     0.62162,     0.62262,     0.62362,\n",
              "           0.62462,     0.62563,     0.62663,     0.62763,     0.62863,     0.62963,     0.63063,     0.63163,     0.63263,     0.63363,     0.63463,     0.63564,     0.63664,     0.63764,     0.63864,     0.63964,     0.64064,     0.64164,     0.64264,     0.64364,     0.64464,     0.64565,     0.64665,     0.64765,\n",
              "           0.64865,     0.64965,     0.65065,     0.65165,     0.65265,     0.65365,     0.65465,     0.65566,     0.65666,     0.65766,     0.65866,     0.65966,     0.66066,     0.66166,     0.66266,     0.66366,     0.66466,     0.66567,     0.66667,     0.66767,     0.66867,     0.66967,     0.67067,     0.67167,\n",
              "           0.67267,     0.67367,     0.67467,     0.67568,     0.67668,     0.67768,     0.67868,     0.67968,     0.68068,     0.68168,     0.68268,     0.68368,     0.68468,     0.68569,     0.68669,     0.68769,     0.68869,     0.68969,     0.69069,     0.69169,     0.69269,     0.69369,     0.69469,      0.6957,\n",
              "            0.6967,      0.6977,      0.6987,      0.6997,      0.7007,      0.7017,      0.7027,      0.7037,      0.7047,     0.70571,     0.70671,     0.70771,     0.70871,     0.70971,     0.71071,     0.71171,     0.71271,     0.71371,     0.71471,     0.71572,     0.71672,     0.71772,     0.71872,     0.71972,\n",
              "           0.72072,     0.72172,     0.72272,     0.72372,     0.72472,     0.72573,     0.72673,     0.72773,     0.72873,     0.72973,     0.73073,     0.73173,     0.73273,     0.73373,     0.73473,     0.73574,     0.73674,     0.73774,     0.73874,     0.73974,     0.74074,     0.74174,     0.74274,     0.74374,\n",
              "           0.74474,     0.74575,     0.74675,     0.74775,     0.74875,     0.74975,     0.75075,     0.75175,     0.75275,     0.75375,     0.75475,     0.75576,     0.75676,     0.75776,     0.75876,     0.75976,     0.76076,     0.76176,     0.76276,     0.76376,     0.76476,     0.76577,     0.76677,     0.76777,\n",
              "           0.76877,     0.76977,     0.77077,     0.77177,     0.77277,     0.77377,     0.77477,     0.77578,     0.77678,     0.77778,     0.77878,     0.77978,     0.78078,     0.78178,     0.78278,     0.78378,     0.78478,     0.78579,     0.78679,     0.78779,     0.78879,     0.78979,     0.79079,     0.79179,\n",
              "           0.79279,     0.79379,     0.79479,      0.7958,      0.7968,      0.7978,      0.7988,      0.7998,      0.8008,      0.8018,      0.8028,      0.8038,      0.8048,     0.80581,     0.80681,     0.80781,     0.80881,     0.80981,     0.81081,     0.81181,     0.81281,     0.81381,     0.81481,     0.81582,\n",
              "           0.81682,     0.81782,     0.81882,     0.81982,     0.82082,     0.82182,     0.82282,     0.82382,     0.82482,     0.82583,     0.82683,     0.82783,     0.82883,     0.82983,     0.83083,     0.83183,     0.83283,     0.83383,     0.83483,     0.83584,     0.83684,     0.83784,     0.83884,     0.83984,\n",
              "           0.84084,     0.84184,     0.84284,     0.84384,     0.84484,     0.84585,     0.84685,     0.84785,     0.84885,     0.84985,     0.85085,     0.85185,     0.85285,     0.85385,     0.85485,     0.85586,     0.85686,     0.85786,     0.85886,     0.85986,     0.86086,     0.86186,     0.86286,     0.86386,\n",
              "           0.86486,     0.86587,     0.86687,     0.86787,     0.86887,     0.86987,     0.87087,     0.87187,     0.87287,     0.87387,     0.87487,     0.87588,     0.87688,     0.87788,     0.87888,     0.87988,     0.88088,     0.88188,     0.88288,     0.88388,     0.88488,     0.88589,     0.88689,     0.88789,\n",
              "           0.88889,     0.88989,     0.89089,     0.89189,     0.89289,     0.89389,     0.89489,      0.8959,      0.8969,      0.8979,      0.8989,      0.8999,      0.9009,      0.9019,      0.9029,      0.9039,      0.9049,     0.90591,     0.90691,     0.90791,     0.90891,     0.90991,     0.91091,     0.91191,\n",
              "           0.91291,     0.91391,     0.91491,     0.91592,     0.91692,     0.91792,     0.91892,     0.91992,     0.92092,     0.92192,     0.92292,     0.92392,     0.92492,     0.92593,     0.92693,     0.92793,     0.92893,     0.92993,     0.93093,     0.93193,     0.93293,     0.93393,     0.93493,     0.93594,\n",
              "           0.93694,     0.93794,     0.93894,     0.93994,     0.94094,     0.94194,     0.94294,     0.94394,     0.94494,     0.94595,     0.94695,     0.94795,     0.94895,     0.94995,     0.95095,     0.95195,     0.95295,     0.95395,     0.95495,     0.95596,     0.95696,     0.95796,     0.95896,     0.95996,\n",
              "           0.96096,     0.96196,     0.96296,     0.96396,     0.96496,     0.96597,     0.96697,     0.96797,     0.96897,     0.96997,     0.97097,     0.97197,     0.97297,     0.97397,     0.97497,     0.97598,     0.97698,     0.97798,     0.97898,     0.97998,     0.98098,     0.98198,     0.98298,     0.98398,\n",
              "           0.98498,     0.98599,     0.98699,     0.98799,     0.98899,     0.98999,     0.99099,     0.99199,     0.99299,     0.99399,     0.99499,       0.996,       0.997,       0.998,       0.999,           1]), array([[    0.14585,     0.14585,     0.20843,     0.25104,     0.28249,     0.29919,     0.31809,     0.33706,     0.34812,     0.35895,     0.37084,     0.37959,       0.391,     0.40296,     0.41311,     0.42134,     0.43261,     0.44645,     0.45296,     0.46209,     0.47358,     0.47777,     0.48435,\n",
              "            0.48949,      0.4949,     0.49772,     0.50706,     0.50924,      0.5149,     0.52407,     0.53236,     0.54082,     0.54495,     0.55375,     0.56009,     0.56373,     0.56628,     0.57137,     0.57363,     0.57496,     0.57981,     0.58354,     0.58992,     0.59199,     0.59291,     0.59772,\n",
              "            0.60072,     0.60606,     0.60907,     0.61041,     0.61261,     0.61399,      0.6147,     0.61578,     0.62085,     0.62245,     0.62347,     0.62954,     0.63356,     0.63552,     0.63701,     0.63959,     0.64097,     0.64148,     0.64199,      0.6425,     0.64509,     0.64601,     0.64734,\n",
              "            0.64852,     0.64942,     0.65373,     0.65451,     0.65528,     0.65696,     0.65819,     0.65938,     0.66078,      0.6667,     0.66866,      0.6691,     0.66954,     0.66998,     0.67042,     0.67388,     0.67563,     0.67627,     0.67691,     0.67767,     0.67892,     0.68075,     0.68202,\n",
              "            0.68289,      0.6863,     0.69177,     0.69332,     0.69442,     0.69537,     0.69802,     0.69873,     0.69944,     0.70032,     0.70184,     0.70307,     0.70424,     0.70591,     0.70685,     0.70746,     0.70807,     0.70955,     0.71054,     0.71025,     0.70997,     0.70948,     0.71105,\n",
              "            0.71326,     0.71605,     0.71678,     0.71752,     0.71753,      0.7174,     0.71885,     0.71821,     0.71785,     0.71749,     0.72139,      0.7223,     0.72271,     0.72311,     0.72351,     0.72392,     0.72432,     0.72559,     0.72703,     0.72878,      0.7299,     0.73092,     0.73235,\n",
              "            0.73648,     0.73813,     0.74039,     0.74332,     0.74296,     0.74259,     0.74582,     0.74753,     0.74971,     0.74943,     0.75441,     0.75986,     0.76354,     0.76622,     0.76643,     0.76707,     0.76771,     0.76835,     0.76899,     0.76986,     0.77074,     0.77161,     0.77207,\n",
              "            0.77253,     0.77299,     0.77345,     0.77391,     0.77486,     0.77745,      0.7783,     0.77916,     0.78006,     0.78103,     0.78201,     0.78215,     0.78207,     0.78395,     0.78518,     0.78617,     0.78717,       0.788,     0.78882,     0.78964,     0.79053,      0.7915,     0.79246,\n",
              "            0.79561,     0.79825,      0.7994,     0.80034,     0.80129,     0.80227,     0.80326,     0.80426,     0.80544,     0.80663,     0.80747,     0.80791,     0.80834,     0.80877,      0.8092,     0.80963,     0.81006,     0.81014,     0.81002,      0.8099,     0.80978,     0.80966,     0.80954,\n",
              "            0.81399,     0.81553,     0.81595,     0.81637,     0.81679,     0.81721,     0.81763,     0.81805,     0.81847,     0.82127,     0.82152,     0.82148,     0.82144,      0.8214,     0.82136,     0.82132,     0.82127,     0.82123,     0.82119,     0.82115,     0.82111,     0.82107,     0.82102,\n",
              "            0.82098,     0.82094,      0.8209,     0.82141,     0.82195,      0.8225,     0.82305,      0.8236,     0.82414,     0.82468,     0.82523,     0.82577,     0.82631,     0.82685,     0.82723,     0.82749,     0.82776,     0.82803,     0.82829,     0.82856,     0.82882,     0.82909,     0.82936,\n",
              "            0.82962,     0.82989,     0.83016,     0.83114,     0.83221,     0.83329,     0.83437,     0.83545,      0.8366,     0.83978,     0.84124,     0.84271,     0.84482,     0.84626,     0.84652,     0.84678,     0.84705,     0.84731,     0.84757,     0.84783,      0.8481,     0.84836,     0.84862,\n",
              "            0.84888,     0.84915,     0.84941,      0.8501,     0.85081,     0.85152,     0.85223,     0.85617,     0.85658,       0.857,     0.85741,     0.85783,     0.85824,     0.85866,     0.85907,     0.86338,     0.86571,     0.86681,     0.86764,     0.86846,     0.86929,     0.87349,      0.8742,\n",
              "            0.87492,     0.87563,     0.87634,     0.87633,     0.87613,     0.87608,     0.87631,     0.87655,     0.87678,     0.87701,     0.87724,     0.87748,     0.87771,     0.87794,     0.87818,     0.87841,     0.87864,     0.87887,     0.87911,     0.87934,     0.87951,      0.8795,     0.87948,\n",
              "            0.87947,     0.87945,     0.87943,     0.87942,      0.8794,     0.87939,     0.87937,     0.87936,     0.87934,     0.87932,     0.87931,     0.87929,     0.87928,     0.87926,     0.87924,     0.87923,     0.87921,      0.8792,     0.87918,     0.87916,     0.87915,     0.87913,     0.87912,\n",
              "             0.8791,     0.87908,     0.87907,     0.87905,     0.87904,     0.87922,     0.87947,     0.87972,     0.87997,     0.88022,     0.88048,     0.88073,     0.88098,     0.88123,     0.88148,     0.88173,     0.88199,     0.88224,     0.88249,     0.88332,     0.88455,     0.88577,     0.88576,\n",
              "            0.88612,     0.88656,       0.887,     0.88744,     0.88787,     0.88831,     0.88875,     0.88919,     0.88985,     0.89064,     0.89143,     0.89222,     0.89301,     0.89326,     0.89351,     0.89376,     0.89402,     0.89427,     0.89452,     0.89477,     0.89502,     0.89528,     0.89553,\n",
              "            0.89578,     0.89603,     0.89628,     0.89654,     0.89717,     0.89844,     0.89971,      0.9004,     0.90038,     0.90035,     0.90033,      0.9003,     0.90027,     0.90025,     0.90022,      0.9002,     0.90017,     0.90015,     0.90012,     0.90009,     0.90007,     0.90004,     0.90002,\n",
              "            0.90024,     0.90091,     0.90158,     0.90225,     0.90292,     0.90359,     0.90399,      0.9043,      0.9046,     0.90491,     0.90521,     0.90552,     0.90582,     0.90613,     0.90643,     0.90674,     0.90705,     0.90735,     0.90788,     0.90893,     0.90997,     0.91102,     0.91224,\n",
              "            0.91356,     0.91488,     0.91812,     0.92064,     0.92266,     0.92337,     0.92374,     0.92411,     0.92448,     0.92485,     0.92521,     0.92558,     0.92595,     0.92632,     0.92669,     0.92707,      0.9276,     0.92813,     0.92866,     0.92918,     0.92971,     0.93024,     0.93077,\n",
              "            0.93102,       0.931,     0.93097,     0.93095,     0.93092,     0.93089,     0.93087,     0.93084,     0.93082,     0.93079,     0.93077,     0.93074,      0.9307,     0.93064,     0.93059,     0.93054,     0.93049,     0.93044,     0.93014,     0.93047,     0.93082,     0.93116,     0.93151,\n",
              "            0.93186,     0.93221,     0.93256,     0.93291,     0.93325,      0.9336,     0.93395,     0.93457,     0.93598,     0.93738,     0.93831,     0.93825,      0.9382,     0.93814,     0.93808,     0.93793,     0.93773,     0.93764,     0.93754,     0.93749,     0.93746,     0.93744,     0.93742,\n",
              "            0.93739,     0.93737,     0.93734,     0.93732,      0.9373,     0.93727,     0.93725,     0.93722,     0.93698,      0.9364,     0.93633,      0.9363,     0.93627,     0.93623,      0.9362,     0.93617,     0.93614,      0.9361,     0.93607,     0.93603,     0.93598,     0.93594,      0.9359,\n",
              "            0.93585,     0.93581,     0.93576,      0.9357,     0.93564,     0.93558,     0.93552,     0.93608,     0.93756,     0.93904,      0.9395,     0.93943,     0.93936,     0.93928,     0.93923,      0.9392,     0.93917,     0.93914,      0.9391,     0.93907,     0.93904,     0.93901,     0.93897,\n",
              "            0.93891,     0.93883,     0.93876,     0.93869,     0.93864,     0.93859,     0.93855,      0.9385,     0.93846,     0.93841,     0.93831,     0.93816,     0.93832,     0.93871,     0.93909,     0.93948,     0.93986,     0.94024,     0.94063,     0.94101,     0.94139,     0.94178,     0.94216,\n",
              "            0.94254,     0.94222,     0.94213,     0.94203,     0.94655,     0.94647,     0.94634,     0.94626,     0.94618,     0.94611,     0.94602,     0.94593,     0.94584,     0.95032,     0.94991,     0.94978,     0.95354,     0.95445,     0.95433,     0.95831,     0.95896,     0.95895,     0.95893,\n",
              "            0.95891,      0.9589,     0.95888,     0.95887,     0.95885,     0.95884,     0.95882,     0.95881,     0.95879,     0.95878,     0.95875,     0.95867,      0.9586,     0.95874,     0.95942,     0.96011,     0.96079,     0.96147,     0.96215,     0.96284,     0.96352,     0.96345,     0.96335,\n",
              "            0.96316,     0.96313,      0.9631,     0.96306,     0.96303,       0.963,     0.96297,     0.96292,     0.96285,     0.96278,     0.96266,     0.96255,      0.9625,     0.96245,      0.9624,     0.96235,     0.96233,      0.9623,     0.96227,     0.96224,     0.96222,     0.96219,     0.96291,\n",
              "             0.9671,     0.96701,     0.96697,     0.96692,     0.96688,     0.96705,      0.9679,     0.96874,     0.96959,     0.97044,     0.97129,     0.97213,     0.97208,     0.97201,     0.97194,     0.97187,     0.97179,     0.97707,     0.97694,     0.97783,     0.97873,     0.97962,     0.98052,\n",
              "            0.98141,     0.98231,     0.98238,     0.98232,     0.98228,     0.98224,     0.98219,     0.98215,     0.98213,     0.98211,     0.98209,     0.98207,     0.98205,     0.98204,       0.982,     0.98197,     0.98194,     0.98376,     0.98681,     0.98778,     0.98775,     0.98772,     0.98769,\n",
              "            0.98766,     0.98757,     0.98755,     0.98753,     0.98752,      0.9875,     0.98735,     0.98727,     0.98723,     0.98721,     0.98718,     0.98701,     0.98699,     0.98696,     0.98694,     0.98674,     0.98665,     0.98648,     0.98644,      0.9864,     0.98637,     0.98633,     0.98619,\n",
              "            0.98612,     0.98605,     0.98598,     0.98563,     0.98556,     0.98551,     0.98538,     0.98534,     0.98529,     0.98528,     0.98526,     0.98525,     0.98523,     0.98521,      0.9852,     0.98517,     0.98512,     0.98507,     0.98504,     0.98502,     0.98499,     0.98497,     0.98486,\n",
              "             0.9848,     0.98474,     0.98462,     0.98454,     0.98446,      0.9844,     0.98658,     0.99055,     0.99212,     0.99211,     0.99209,     0.99208,     0.99207,     0.99203,     0.99272,     0.99545,     0.99818,           1,           1,           1,           1,           1,           1,\n",
              "                  1,           1,           1,           1,           1,           1,           1,           1,           1,           1,           1,           1,           1,           1,           1,           1,           1,           1,           1,           1,           1,           1,           1,\n",
              "                  1,           1,           1,           1,           1,           1,           1,           1,           1,           1,           1,           1,           1,           1,           1,           1,           1,           1,           1,           1,           1,           1,           1,\n",
              "                  1,           1,           1,           1,           1,           1,           1,           1,           1,           1,           1,           1,           1,           1,           1,           1,           1,           1,           1,           1,           1,           1,           1,\n",
              "                  1,           1,           1,           1,           1,           1,           1,           1,           1,           1,           1,           1,           1,           1,           1,           1,           1,           1,           1,           1,           1,           1,           1,\n",
              "                  1,           1,           1,           1,           1,           1,           1,           1,           1,           1,           1,           1,           1,           1,           1,           1,           1,           1,           1,           1,           1,           1,           1,\n",
              "                  1,           1,           1,           1,           1,           1,           1,           1,           1,           1,           1,           1,           1,           1,           1,           1,           1,           1,           1,           1,           1,           1,           1,\n",
              "                  1,           1,           1,           1,           1,           1,           1,           1,           1,           1,           1,           1,           1,           1,           1,           1,           1,           1,           1,           1,           1,           1,           1,\n",
              "                  1,           1,           1,           1,           1,           1,           1,           1,           1,           1,           1,           1,           1,           1,           1,           1,           1,           1,           1,           1,           1,           1,           1,\n",
              "                  1,           1,           1,           1,           1,           1,           1,           1,           1,           1,           1,           1,           1,           1,           1,           1,           1,           1,           1,           1,           1,           1,           1,\n",
              "                  1,           1,           1,           1,           1,           1,           1,           1,           1,           1,           1,           1,           1,           1,           1,           1,           1,           1,           1,           1,           1,           1,           1,\n",
              "                  1,           1,           1,           1,           1,           1,           1,           1,           1,           1,           1]]), 'Confidence', 'Precision'], [array([          0,    0.001001,    0.002002,    0.003003,    0.004004,    0.005005,    0.006006,    0.007007,    0.008008,    0.009009,     0.01001,    0.011011,    0.012012,    0.013013,    0.014014,    0.015015,    0.016016,    0.017017,    0.018018,    0.019019,     0.02002,    0.021021,    0.022022,    0.023023,\n",
              "          0.024024,    0.025025,    0.026026,    0.027027,    0.028028,    0.029029,     0.03003,    0.031031,    0.032032,    0.033033,    0.034034,    0.035035,    0.036036,    0.037037,    0.038038,    0.039039,     0.04004,    0.041041,    0.042042,    0.043043,    0.044044,    0.045045,    0.046046,    0.047047,\n",
              "          0.048048,    0.049049,     0.05005,    0.051051,    0.052052,    0.053053,    0.054054,    0.055055,    0.056056,    0.057057,    0.058058,    0.059059,     0.06006,    0.061061,    0.062062,    0.063063,    0.064064,    0.065065,    0.066066,    0.067067,    0.068068,    0.069069,     0.07007,    0.071071,\n",
              "          0.072072,    0.073073,    0.074074,    0.075075,    0.076076,    0.077077,    0.078078,    0.079079,     0.08008,    0.081081,    0.082082,    0.083083,    0.084084,    0.085085,    0.086086,    0.087087,    0.088088,    0.089089,     0.09009,    0.091091,    0.092092,    0.093093,    0.094094,    0.095095,\n",
              "          0.096096,    0.097097,    0.098098,    0.099099,      0.1001,      0.1011,      0.1021,      0.1031,      0.1041,     0.10511,     0.10611,     0.10711,     0.10811,     0.10911,     0.11011,     0.11111,     0.11211,     0.11311,     0.11411,     0.11512,     0.11612,     0.11712,     0.11812,     0.11912,\n",
              "           0.12012,     0.12112,     0.12212,     0.12312,     0.12412,     0.12513,     0.12613,     0.12713,     0.12813,     0.12913,     0.13013,     0.13113,     0.13213,     0.13313,     0.13413,     0.13514,     0.13614,     0.13714,     0.13814,     0.13914,     0.14014,     0.14114,     0.14214,     0.14314,\n",
              "           0.14414,     0.14515,     0.14615,     0.14715,     0.14815,     0.14915,     0.15015,     0.15115,     0.15215,     0.15315,     0.15415,     0.15516,     0.15616,     0.15716,     0.15816,     0.15916,     0.16016,     0.16116,     0.16216,     0.16316,     0.16416,     0.16517,     0.16617,     0.16717,\n",
              "           0.16817,     0.16917,     0.17017,     0.17117,     0.17217,     0.17317,     0.17417,     0.17518,     0.17618,     0.17718,     0.17818,     0.17918,     0.18018,     0.18118,     0.18218,     0.18318,     0.18418,     0.18519,     0.18619,     0.18719,     0.18819,     0.18919,     0.19019,     0.19119,\n",
              "           0.19219,     0.19319,     0.19419,      0.1952,      0.1962,      0.1972,      0.1982,      0.1992,      0.2002,      0.2012,      0.2022,      0.2032,      0.2042,     0.20521,     0.20621,     0.20721,     0.20821,     0.20921,     0.21021,     0.21121,     0.21221,     0.21321,     0.21421,     0.21522,\n",
              "           0.21622,     0.21722,     0.21822,     0.21922,     0.22022,     0.22122,     0.22222,     0.22322,     0.22422,     0.22523,     0.22623,     0.22723,     0.22823,     0.22923,     0.23023,     0.23123,     0.23223,     0.23323,     0.23423,     0.23524,     0.23624,     0.23724,     0.23824,     0.23924,\n",
              "           0.24024,     0.24124,     0.24224,     0.24324,     0.24424,     0.24525,     0.24625,     0.24725,     0.24825,     0.24925,     0.25025,     0.25125,     0.25225,     0.25325,     0.25425,     0.25526,     0.25626,     0.25726,     0.25826,     0.25926,     0.26026,     0.26126,     0.26226,     0.26326,\n",
              "           0.26426,     0.26527,     0.26627,     0.26727,     0.26827,     0.26927,     0.27027,     0.27127,     0.27227,     0.27327,     0.27427,     0.27528,     0.27628,     0.27728,     0.27828,     0.27928,     0.28028,     0.28128,     0.28228,     0.28328,     0.28428,     0.28529,     0.28629,     0.28729,\n",
              "           0.28829,     0.28929,     0.29029,     0.29129,     0.29229,     0.29329,     0.29429,      0.2953,      0.2963,      0.2973,      0.2983,      0.2993,      0.3003,      0.3013,      0.3023,      0.3033,      0.3043,     0.30531,     0.30631,     0.30731,     0.30831,     0.30931,     0.31031,     0.31131,\n",
              "           0.31231,     0.31331,     0.31431,     0.31532,     0.31632,     0.31732,     0.31832,     0.31932,     0.32032,     0.32132,     0.32232,     0.32332,     0.32432,     0.32533,     0.32633,     0.32733,     0.32833,     0.32933,     0.33033,     0.33133,     0.33233,     0.33333,     0.33433,     0.33534,\n",
              "           0.33634,     0.33734,     0.33834,     0.33934,     0.34034,     0.34134,     0.34234,     0.34334,     0.34434,     0.34535,     0.34635,     0.34735,     0.34835,     0.34935,     0.35035,     0.35135,     0.35235,     0.35335,     0.35435,     0.35536,     0.35636,     0.35736,     0.35836,     0.35936,\n",
              "           0.36036,     0.36136,     0.36236,     0.36336,     0.36436,     0.36537,     0.36637,     0.36737,     0.36837,     0.36937,     0.37037,     0.37137,     0.37237,     0.37337,     0.37437,     0.37538,     0.37638,     0.37738,     0.37838,     0.37938,     0.38038,     0.38138,     0.38238,     0.38338,\n",
              "           0.38438,     0.38539,     0.38639,     0.38739,     0.38839,     0.38939,     0.39039,     0.39139,     0.39239,     0.39339,     0.39439,      0.3954,      0.3964,      0.3974,      0.3984,      0.3994,      0.4004,      0.4014,      0.4024,      0.4034,      0.4044,     0.40541,     0.40641,     0.40741,\n",
              "           0.40841,     0.40941,     0.41041,     0.41141,     0.41241,     0.41341,     0.41441,     0.41542,     0.41642,     0.41742,     0.41842,     0.41942,     0.42042,     0.42142,     0.42242,     0.42342,     0.42442,     0.42543,     0.42643,     0.42743,     0.42843,     0.42943,     0.43043,     0.43143,\n",
              "           0.43243,     0.43343,     0.43443,     0.43544,     0.43644,     0.43744,     0.43844,     0.43944,     0.44044,     0.44144,     0.44244,     0.44344,     0.44444,     0.44545,     0.44645,     0.44745,     0.44845,     0.44945,     0.45045,     0.45145,     0.45245,     0.45345,     0.45445,     0.45546,\n",
              "           0.45646,     0.45746,     0.45846,     0.45946,     0.46046,     0.46146,     0.46246,     0.46346,     0.46446,     0.46547,     0.46647,     0.46747,     0.46847,     0.46947,     0.47047,     0.47147,     0.47247,     0.47347,     0.47447,     0.47548,     0.47648,     0.47748,     0.47848,     0.47948,\n",
              "           0.48048,     0.48148,     0.48248,     0.48348,     0.48448,     0.48549,     0.48649,     0.48749,     0.48849,     0.48949,     0.49049,     0.49149,     0.49249,     0.49349,     0.49449,      0.4955,      0.4965,      0.4975,      0.4985,      0.4995,      0.5005,      0.5015,      0.5025,      0.5035,\n",
              "            0.5045,     0.50551,     0.50651,     0.50751,     0.50851,     0.50951,     0.51051,     0.51151,     0.51251,     0.51351,     0.51451,     0.51552,     0.51652,     0.51752,     0.51852,     0.51952,     0.52052,     0.52152,     0.52252,     0.52352,     0.52452,     0.52553,     0.52653,     0.52753,\n",
              "           0.52853,     0.52953,     0.53053,     0.53153,     0.53253,     0.53353,     0.53453,     0.53554,     0.53654,     0.53754,     0.53854,     0.53954,     0.54054,     0.54154,     0.54254,     0.54354,     0.54454,     0.54555,     0.54655,     0.54755,     0.54855,     0.54955,     0.55055,     0.55155,\n",
              "           0.55255,     0.55355,     0.55455,     0.55556,     0.55656,     0.55756,     0.55856,     0.55956,     0.56056,     0.56156,     0.56256,     0.56356,     0.56456,     0.56557,     0.56657,     0.56757,     0.56857,     0.56957,     0.57057,     0.57157,     0.57257,     0.57357,     0.57457,     0.57558,\n",
              "           0.57658,     0.57758,     0.57858,     0.57958,     0.58058,     0.58158,     0.58258,     0.58358,     0.58458,     0.58559,     0.58659,     0.58759,     0.58859,     0.58959,     0.59059,     0.59159,     0.59259,     0.59359,     0.59459,      0.5956,      0.5966,      0.5976,      0.5986,      0.5996,\n",
              "            0.6006,      0.6016,      0.6026,      0.6036,      0.6046,     0.60561,     0.60661,     0.60761,     0.60861,     0.60961,     0.61061,     0.61161,     0.61261,     0.61361,     0.61461,     0.61562,     0.61662,     0.61762,     0.61862,     0.61962,     0.62062,     0.62162,     0.62262,     0.62362,\n",
              "           0.62462,     0.62563,     0.62663,     0.62763,     0.62863,     0.62963,     0.63063,     0.63163,     0.63263,     0.63363,     0.63463,     0.63564,     0.63664,     0.63764,     0.63864,     0.63964,     0.64064,     0.64164,     0.64264,     0.64364,     0.64464,     0.64565,     0.64665,     0.64765,\n",
              "           0.64865,     0.64965,     0.65065,     0.65165,     0.65265,     0.65365,     0.65465,     0.65566,     0.65666,     0.65766,     0.65866,     0.65966,     0.66066,     0.66166,     0.66266,     0.66366,     0.66466,     0.66567,     0.66667,     0.66767,     0.66867,     0.66967,     0.67067,     0.67167,\n",
              "           0.67267,     0.67367,     0.67467,     0.67568,     0.67668,     0.67768,     0.67868,     0.67968,     0.68068,     0.68168,     0.68268,     0.68368,     0.68468,     0.68569,     0.68669,     0.68769,     0.68869,     0.68969,     0.69069,     0.69169,     0.69269,     0.69369,     0.69469,      0.6957,\n",
              "            0.6967,      0.6977,      0.6987,      0.6997,      0.7007,      0.7017,      0.7027,      0.7037,      0.7047,     0.70571,     0.70671,     0.70771,     0.70871,     0.70971,     0.71071,     0.71171,     0.71271,     0.71371,     0.71471,     0.71572,     0.71672,     0.71772,     0.71872,     0.71972,\n",
              "           0.72072,     0.72172,     0.72272,     0.72372,     0.72472,     0.72573,     0.72673,     0.72773,     0.72873,     0.72973,     0.73073,     0.73173,     0.73273,     0.73373,     0.73473,     0.73574,     0.73674,     0.73774,     0.73874,     0.73974,     0.74074,     0.74174,     0.74274,     0.74374,\n",
              "           0.74474,     0.74575,     0.74675,     0.74775,     0.74875,     0.74975,     0.75075,     0.75175,     0.75275,     0.75375,     0.75475,     0.75576,     0.75676,     0.75776,     0.75876,     0.75976,     0.76076,     0.76176,     0.76276,     0.76376,     0.76476,     0.76577,     0.76677,     0.76777,\n",
              "           0.76877,     0.76977,     0.77077,     0.77177,     0.77277,     0.77377,     0.77477,     0.77578,     0.77678,     0.77778,     0.77878,     0.77978,     0.78078,     0.78178,     0.78278,     0.78378,     0.78478,     0.78579,     0.78679,     0.78779,     0.78879,     0.78979,     0.79079,     0.79179,\n",
              "           0.79279,     0.79379,     0.79479,      0.7958,      0.7968,      0.7978,      0.7988,      0.7998,      0.8008,      0.8018,      0.8028,      0.8038,      0.8048,     0.80581,     0.80681,     0.80781,     0.80881,     0.80981,     0.81081,     0.81181,     0.81281,     0.81381,     0.81481,     0.81582,\n",
              "           0.81682,     0.81782,     0.81882,     0.81982,     0.82082,     0.82182,     0.82282,     0.82382,     0.82482,     0.82583,     0.82683,     0.82783,     0.82883,     0.82983,     0.83083,     0.83183,     0.83283,     0.83383,     0.83483,     0.83584,     0.83684,     0.83784,     0.83884,     0.83984,\n",
              "           0.84084,     0.84184,     0.84284,     0.84384,     0.84484,     0.84585,     0.84685,     0.84785,     0.84885,     0.84985,     0.85085,     0.85185,     0.85285,     0.85385,     0.85485,     0.85586,     0.85686,     0.85786,     0.85886,     0.85986,     0.86086,     0.86186,     0.86286,     0.86386,\n",
              "           0.86486,     0.86587,     0.86687,     0.86787,     0.86887,     0.86987,     0.87087,     0.87187,     0.87287,     0.87387,     0.87487,     0.87588,     0.87688,     0.87788,     0.87888,     0.87988,     0.88088,     0.88188,     0.88288,     0.88388,     0.88488,     0.88589,     0.88689,     0.88789,\n",
              "           0.88889,     0.88989,     0.89089,     0.89189,     0.89289,     0.89389,     0.89489,      0.8959,      0.8969,      0.8979,      0.8989,      0.8999,      0.9009,      0.9019,      0.9029,      0.9039,      0.9049,     0.90591,     0.90691,     0.90791,     0.90891,     0.90991,     0.91091,     0.91191,\n",
              "           0.91291,     0.91391,     0.91491,     0.91592,     0.91692,     0.91792,     0.91892,     0.91992,     0.92092,     0.92192,     0.92292,     0.92392,     0.92492,     0.92593,     0.92693,     0.92793,     0.92893,     0.92993,     0.93093,     0.93193,     0.93293,     0.93393,     0.93493,     0.93594,\n",
              "           0.93694,     0.93794,     0.93894,     0.93994,     0.94094,     0.94194,     0.94294,     0.94394,     0.94494,     0.94595,     0.94695,     0.94795,     0.94895,     0.94995,     0.95095,     0.95195,     0.95295,     0.95395,     0.95495,     0.95596,     0.95696,     0.95796,     0.95896,     0.95996,\n",
              "           0.96096,     0.96196,     0.96296,     0.96396,     0.96496,     0.96597,     0.96697,     0.96797,     0.96897,     0.96997,     0.97097,     0.97197,     0.97297,     0.97397,     0.97497,     0.97598,     0.97698,     0.97798,     0.97898,     0.97998,     0.98098,     0.98198,     0.98298,     0.98398,\n",
              "           0.98498,     0.98599,     0.98699,     0.98799,     0.98899,     0.98999,     0.99099,     0.99199,     0.99299,     0.99399,     0.99499,       0.996,       0.997,       0.998,       0.999,           1]), array([[     0.9958,      0.9958,      0.9958,      0.9916,      0.9916,      0.9916,      0.9916,      0.9916,      0.9916,     0.98739,     0.98319,     0.98319,     0.98319,     0.98319,     0.98319,     0.97899,     0.97899,     0.97899,     0.97899,     0.97899,     0.97899,     0.97899,     0.97899,\n",
              "            0.97899,     0.97479,     0.97479,     0.97479,     0.97479,     0.97479,     0.97479,     0.97479,     0.97479,     0.97479,     0.97479,     0.97479,     0.97479,     0.97479,     0.97479,     0.97479,     0.97479,     0.97479,     0.97479,     0.97479,     0.97479,     0.97479,     0.97479,\n",
              "            0.97479,     0.97479,     0.97479,     0.97479,     0.97479,     0.97479,     0.97479,     0.97479,     0.97479,     0.97479,     0.97479,     0.97479,     0.97479,     0.97479,     0.97479,     0.97479,     0.97479,     0.97479,     0.97479,     0.97479,     0.97479,     0.97479,     0.97479,\n",
              "            0.97479,     0.97479,     0.97479,     0.97479,     0.97479,     0.97479,     0.97479,     0.97479,     0.97479,     0.97479,     0.97479,     0.97479,     0.97479,     0.97479,     0.97479,     0.97479,     0.97059,     0.97059,     0.97059,     0.97059,     0.97059,     0.97059,     0.97059,\n",
              "            0.97059,     0.97059,     0.97059,     0.97059,     0.97059,     0.97059,     0.97059,     0.97059,     0.97059,     0.97059,     0.97059,     0.97059,     0.97059,     0.97059,     0.97059,     0.97059,     0.97059,     0.97059,     0.96951,     0.96816,     0.96681,     0.96218,     0.96218,\n",
              "            0.96218,     0.96218,     0.96218,     0.96218,     0.96061,     0.95798,     0.95614,     0.95308,      0.9514,     0.94972,     0.94958,     0.94958,     0.94958,     0.94958,     0.94958,     0.94958,     0.94958,     0.94958,     0.94958,     0.94958,     0.94958,     0.94958,     0.94958,\n",
              "            0.94958,     0.94958,     0.94958,     0.94909,     0.94727,     0.94546,     0.94538,     0.94538,      0.9439,     0.94118,     0.94118,     0.94118,     0.94118,     0.94118,     0.93697,     0.93697,     0.93697,     0.93697,     0.93697,     0.93697,     0.93697,     0.93697,     0.93697,\n",
              "            0.93697,     0.93697,     0.93697,     0.93697,     0.93697,     0.93697,     0.93697,     0.93697,     0.93697,     0.93697,     0.93697,     0.93528,     0.93277,     0.93277,     0.93277,     0.93277,     0.93277,     0.93277,     0.93277,     0.93277,     0.93277,     0.93277,     0.93277,\n",
              "            0.93277,     0.93277,     0.93277,     0.93277,     0.93277,     0.93277,     0.93277,     0.93277,     0.93277,     0.93277,     0.93277,     0.93277,     0.93277,     0.93277,     0.93277,     0.93277,     0.93277,      0.9323,     0.93157,     0.93084,     0.93011,     0.92937,     0.92864,\n",
              "            0.92857,     0.92857,     0.92857,     0.92857,     0.92857,     0.92857,     0.92857,     0.92857,     0.92857,     0.92857,     0.92833,     0.92807,     0.92781,     0.92754,     0.92728,     0.92702,     0.92675,     0.92649,     0.92623,     0.92597,      0.9257,     0.92544,     0.92518,\n",
              "            0.92491,     0.92465,     0.92439,     0.92437,     0.92437,     0.92437,     0.92437,     0.92437,     0.92437,     0.92437,     0.92437,     0.92437,     0.92437,     0.92437,     0.92437,     0.92437,     0.92437,     0.92437,     0.92437,     0.92437,     0.92437,     0.92437,     0.92437,\n",
              "            0.92437,     0.92437,     0.92437,     0.92437,     0.92437,     0.92437,     0.92437,     0.92437,     0.92437,     0.92437,     0.92437,     0.92437,     0.92437,     0.92437,     0.92437,     0.92437,     0.92437,     0.92437,     0.92437,     0.92437,     0.92437,     0.92437,     0.92437,\n",
              "            0.92437,     0.92437,     0.92437,     0.92437,     0.92437,     0.92437,     0.92437,     0.92437,     0.92437,     0.92437,     0.92437,     0.92437,     0.92437,     0.92437,     0.92437,     0.92437,     0.92437,     0.92437,     0.92437,     0.92437,     0.92437,     0.92437,     0.92437,\n",
              "            0.92437,     0.92437,     0.92437,     0.92301,     0.92129,     0.92017,     0.92017,     0.92017,     0.92017,     0.92017,     0.92017,     0.92017,     0.92017,     0.92017,     0.92017,     0.92017,     0.92017,     0.92017,     0.92017,     0.92017,     0.92014,        0.92,     0.91986,\n",
              "            0.91972,     0.91959,     0.91945,     0.91931,     0.91917,     0.91903,      0.9189,     0.91876,     0.91862,     0.91848,     0.91835,     0.91821,     0.91807,     0.91793,     0.91779,     0.91766,     0.91752,     0.91738,     0.91724,      0.9171,     0.91697,     0.91683,     0.91669,\n",
              "            0.91655,     0.91642,     0.91628,     0.91614,       0.916,     0.91597,     0.91597,     0.91597,     0.91597,     0.91597,     0.91597,     0.91597,     0.91597,     0.91597,     0.91597,     0.91597,     0.91597,     0.91597,     0.91597,     0.91597,     0.91597,     0.91597,     0.91213,\n",
              "            0.91176,     0.91176,     0.91176,     0.91176,     0.91176,     0.91176,     0.91176,     0.91176,     0.91176,     0.91176,     0.91176,     0.91176,     0.91176,     0.91176,     0.91176,     0.91176,     0.91176,     0.91176,     0.91176,     0.91176,     0.91176,     0.91176,     0.91176,\n",
              "            0.91176,     0.91176,     0.91176,     0.91176,     0.91176,     0.91176,     0.91176,     0.91165,     0.91139,     0.91113,     0.91086,      0.9106,     0.91034,     0.91008,     0.90982,     0.90956,      0.9093,     0.90904,     0.90878,     0.90852,     0.90825,     0.90799,     0.90773,\n",
              "            0.90756,     0.90756,     0.90756,     0.90756,     0.90756,     0.90756,     0.90756,     0.90756,     0.90756,     0.90756,     0.90756,     0.90756,     0.90756,     0.90756,     0.90756,     0.90756,     0.90756,     0.90756,     0.90756,     0.90756,     0.90756,     0.90756,     0.90756,\n",
              "            0.90756,     0.90756,     0.90756,     0.90756,     0.90756,     0.90756,     0.90756,     0.90756,     0.90756,     0.90756,     0.90756,     0.90756,     0.90756,     0.90756,     0.90756,     0.90756,     0.90756,     0.90756,     0.90756,     0.90756,     0.90756,     0.90756,     0.90756,\n",
              "            0.90738,     0.90703,     0.90667,     0.90631,     0.90595,     0.90559,     0.90523,     0.90487,     0.90451,     0.90415,     0.90379,     0.90344,     0.90279,     0.90208,     0.90136,     0.90064,     0.89992,      0.8992,     0.89512,     0.89496,     0.89496,     0.89496,     0.89496,\n",
              "            0.89496,     0.89496,     0.89496,     0.89496,     0.89496,     0.89496,     0.89496,     0.89496,     0.89496,     0.89496,     0.89467,     0.89381,     0.89295,     0.89209,     0.89123,     0.88881,     0.88587,     0.88444,       0.883,     0.88216,      0.8818,     0.88144,     0.88108,\n",
              "            0.88072,     0.88036,        0.88,     0.87964,     0.87928,     0.87893,     0.87857,     0.87821,     0.87453,     0.86602,     0.86512,     0.86464,     0.86416,     0.86368,     0.86321,     0.86273,     0.86225,     0.86177,     0.86128,     0.86066,     0.86005,     0.85943,     0.85882,\n",
              "             0.8582,     0.85759,      0.8569,     0.85604,     0.85518,     0.85432,     0.85346,     0.85294,     0.85294,     0.85294,     0.84823,     0.84715,     0.84607,       0.845,     0.84426,     0.84378,     0.84331,     0.84283,     0.84235,     0.84187,     0.84139,     0.84091,     0.84043,\n",
              "            0.83948,      0.8384,     0.83733,     0.83625,     0.83554,     0.83488,     0.83422,     0.83356,     0.83289,     0.83223,     0.83075,     0.82859,     0.82773,     0.82773,     0.82773,     0.82773,     0.82773,     0.82773,     0.82773,     0.82773,     0.82773,     0.82773,     0.82773,\n",
              "            0.82773,     0.82225,     0.82081,     0.81938,     0.81933,      0.8172,     0.81508,     0.81385,     0.81262,     0.81139,     0.81003,     0.80859,     0.80716,     0.80372,     0.79677,     0.79461,     0.79412,     0.79241,     0.79025,     0.78571,     0.78545,     0.78514,     0.78483,\n",
              "            0.78452,     0.78422,     0.78391,      0.7836,     0.78329,     0.78299,     0.78268,     0.78237,     0.78206,     0.78176,     0.78121,     0.77978,     0.77834,     0.77731,     0.77731,     0.77731,     0.77731,     0.77731,     0.77731,     0.77731,     0.77731,     0.77523,     0.77304,\n",
              "            0.76888,     0.76822,     0.76756,     0.76689,     0.76623,     0.76557,     0.76491,      0.7637,     0.76227,     0.76083,     0.75829,     0.75597,     0.75489,     0.75382,     0.75274,     0.75187,     0.75129,     0.75072,     0.75015,     0.74957,       0.749,     0.74842,      0.7437,\n",
              "            0.74111,      0.7389,     0.73794,     0.73698,     0.73603,     0.73529,     0.73529,     0.73529,     0.73529,     0.73529,     0.73529,     0.73529,     0.73144,     0.72951,     0.72779,     0.72586,      0.7237,     0.71621,     0.71008,     0.71008,     0.71008,     0.71008,     0.71008,\n",
              "            0.71008,     0.71008,     0.70277,     0.70039,     0.69867,     0.69695,     0.69522,      0.6935,     0.69265,     0.69193,     0.69122,      0.6905,     0.68978,     0.68906,     0.68782,     0.68659,     0.68536,     0.68487,     0.68487,     0.67955,     0.67783,     0.67611,     0.67438,\n",
              "            0.67266,      0.6674,     0.66654,     0.66568,     0.66482,     0.66396,     0.65581,      0.6515,     0.64991,     0.64847,     0.64699,      0.6386,     0.63737,     0.63614,     0.63491,     0.62545,     0.62114,     0.61312,      0.6114,     0.60968,     0.60795,     0.60623,     0.59995,\n",
              "            0.59708,     0.59421,     0.59079,     0.57632,     0.57365,      0.5715,      0.5664,     0.56468,       0.563,     0.56238,     0.56177,     0.56115,     0.56054,     0.55992,     0.55931,     0.55837,     0.55621,     0.55437,     0.55341,     0.55246,      0.5515,     0.55054,     0.54667,\n",
              "            0.54429,     0.54214,     0.53795,     0.53503,     0.53252,     0.53037,     0.52941,     0.52941,     0.52889,     0.52803,     0.52717,     0.52631,     0.52545,     0.52313,     0.52101,     0.52101,     0.52101,     0.52005,     0.51717,     0.51573,      0.5145,     0.51327,     0.50762,\n",
              "            0.50589,     0.49984,     0.49351,     0.49091,     0.48968,     0.48845,     0.48724,     0.48617,     0.48509,     0.48401,     0.48306,     0.48253,     0.48199,     0.48145,     0.48091,     0.48037,     0.47983,      0.4793,     0.47824,     0.47652,      0.4748,     0.47193,     0.47017,\n",
              "            0.46939,     0.46861,     0.46782,     0.46704,      0.4661,     0.46438,     0.46266,      0.4614,     0.46033,     0.45925,     0.45817,     0.45562,     0.45275,     0.44987,     0.44185,     0.43959,     0.43787,     0.43651,     0.43556,      0.4346,     0.43364,     0.42357,     0.41756,\n",
              "            0.41416,     0.41129,     0.40842,     0.40454,     0.40127,     0.39689,     0.38993,     0.38706,     0.38513,     0.38341,     0.38152,     0.37937,      0.3769,     0.37403,     0.36138,     0.34852,     0.34809,     0.34766,     0.34723,      0.3468,     0.34637,     0.34594,     0.34551,\n",
              "            0.34508,     0.34464,      0.3392,     0.33593,     0.33521,     0.33449,     0.33377,     0.33306,     0.33234,     0.33006,     0.32641,     0.32354,     0.31823,     0.31608,     0.30996,     0.30824,     0.30621,     0.30241,     0.30163,     0.30084,     0.30006,     0.29928,     0.29849,\n",
              "            0.29609,     0.28857,      0.2828,     0.27968,     0.27753,     0.26805,     0.26709,     0.26613,     0.26518,     0.26032,     0.25538,     0.25366,     0.25169,     0.24688,     0.23908,     0.23842,     0.23775,     0.23709,     0.23643,     0.23576,     0.23405,     0.22419,     0.21776,\n",
              "            0.21561,     0.21095,     0.20234,      0.1914,     0.18511,     0.17229,      0.1652,     0.15113,     0.14826,     0.13838,     0.13551,     0.12984,     0.12697,     0.12488,     0.12316,     0.11977,     0.11548,     0.11095,     0.10694,    0.099381,    0.095596,    0.092724,    0.089853,\n",
              "           0.082154,    0.075862,    0.071439,    0.067164,    0.064293,    0.058519,    0.054212,    0.050273,    0.049042,    0.047812,    0.046581,    0.043182,    0.040446,    0.038292,    0.031111,    0.029028,    0.028549,    0.028071,    0.027592,    0.027113,    0.026635,    0.026156,    0.025678,\n",
              "           0.025113,    0.020951,     0.01972,     0.01849,    0.017259,    0.012564,    0.012276,    0.011989,    0.011702,    0.011415,    0.011128,    0.010841,    0.010554,    0.010267,   0.0099794,   0.0096923,   0.0094052,   0.0091181,    0.008831,   0.0085438,           0,           0,           0,\n",
              "                  0,           0,           0,           0,           0,           0,           0,           0,           0,           0,           0,           0,           0,           0,           0,           0,           0,           0,           0,           0,           0,           0,           0,\n",
              "                  0,           0,           0,           0,           0,           0,           0,           0,           0,           0,           0,           0,           0,           0,           0,           0,           0,           0,           0,           0,           0,           0,           0,\n",
              "                  0,           0,           0,           0,           0,           0,           0,           0,           0,           0,           0]]), 'Confidence', 'Recall']]\n",
              "fitness: 0.6761496836560508\n",
              "keys: ['metrics/precision(B)', 'metrics/recall(B)', 'metrics/mAP50(B)', 'metrics/mAP50-95(B)']\n",
              "maps: array([    0.64506])\n",
              "names: {0: 'face'}\n",
              "plot: True\n",
              "results_dict: {'metrics/precision(B)': 0.9309197489274118, 'metrics/recall(B)': 0.9059483152620408, 'metrics/mAP50(B)': 0.9559502884490095, 'metrics/mAP50-95(B)': 0.6450607275679443, 'fitness': 0.6761496836560508}\n",
              "save_dir: PosixPath('runs/detect/train')\n",
              "speed: {'preprocess': 0.4671014588454674, 'inference': 3.601174518979829, 'loss': 0.0005771373880320582, 'postprocess': 6.065621869317416}\n",
              "task: 'detect'"
            ]
          },
          "execution_count": 7,
          "metadata": {},
          "output_type": "execute_result"
        }
      ],
      "source": [
        "model.train(data='/content/Face-Detection-24/data.yaml', epochs=20, imgsz=640, pretrained=True, verbose=True)"
      ]
    },
    {
      "cell_type": "code",
      "execution_count": 7,
      "metadata": {
        "id": "hAIUnM3FVeL0"
      },
      "outputs": [],
      "source": []
    }
  ],
  "metadata": {
    "accelerator": "GPU",
    "colab": {
      "gpuType": "T4",
      "provenance": []
    },
    "kernelspec": {
      "display_name": "Python 3",
      "name": "python3"
    },
    "language_info": {
      "name": "python",
      "version": "3.10.12"
    }
  },
  "nbformat": 4,
  "nbformat_minor": 0
}
